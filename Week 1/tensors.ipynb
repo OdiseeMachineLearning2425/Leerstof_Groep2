{
 "cells": [
  {
   "cell_type": "markdown",
   "id": "b6348aea",
   "metadata": {},
   "source": [
    "# Inleiding tot Tensors met PyTorch\n",
    "\n",
    "Deze notebook behandelt de basis van tensors met behulp van het PyTorch-framework. We zullen bespreken wat tensors zijn, hoe we ze kunnen maken, indexeren, de gegevens erin kunnen manipuleren en de vorm ervan kunnen wijzigen. Elk gedeelte bevat enkele oefeningen om uw begrip te testen.\n",
    "\n",
    "## Wat zijn Tensors\n",
    "\n",
    "Tensors zijn een fundamentele gegevensstructuur in veel machine learning-frameworks, waaronder PyTorch. Ze zijn vergelijkbaar met arrays en matrices, maar zijn gegeneraliseerd naar hogere dimensies. Ze kunnen worden gebruikt om verschillende soorten gegevens te vertegenwoordigen, zoals vectors, matrices en zelfs hogere-dimensionale gegevens.\n",
    "\n",
    "Een tensor kan worden beschouwd als een meerdimensionale array. Tensors kunnen een willekeurig aantal dimensies hebben, en elke dimensie wordt een as genoemd. Hier zijn enkele voorbeelden van tensors van verschillende dimensies:\n",
    "- Een scalair is een 0-dimensionale tensor.\n",
    "- Een vector is een 1-dimensionale tensor.\n",
    "- Een matrix is een 2-dimensionale tensor.\n",
    "- Een tensor van hogere orde kan drie of meer dimensies hebben."
   ]
  },
  {
   "cell_type": "code",
   "execution_count": 5,
   "id": "9f45899d",
   "metadata": {},
   "outputs": [
    {
     "name": "stdout",
     "output_type": "stream",
     "text": [
      "tensor(5)\n",
      "tensor([1, 2, 3])\n",
      "tensor([[1, 2, 3],\n",
      "        [4, 5, 6]])\n",
      "tensor([[[1, 2],\n",
      "         [3, 4]],\n",
      "\n",
      "        [[5, 6],\n",
      "         [7, 8]]])\n",
      "torch.Size([2, 2, 2])\n"
     ]
    }
   ],
   "source": [
    "import torch\n",
    "\n",
    "# Voorbeeld van een scalair\n",
    "scalar = torch.tensor(5)\n",
    "print(scalar)\n",
    "\n",
    "# Voorbeeld van een vector\n",
    "vector = torch.tensor([1, 2, 3])\n",
    "print(vector)\n",
    "\n",
    "# Voorbeeld van een matrix\n",
    "matrix = torch.tensor([[1, 2, 3], [4, 5, 6]])\n",
    "print(matrix)\n",
    "\n",
    "# Voorbeeld van een tensor van hogere orde\n",
    "tensor = torch.tensor([[[1, 2], [3, 4]], [[5, 6], [7, 8]]])\n",
    "print(tensor)\n",
    "print(tensor.shape)"
   ]
  },
  {
   "cell_type": "markdown",
   "id": "84a9a41f-c13f-4985-98f3-622136264c8f",
   "metadata": {},
   "source": [
    "## Hoe maak je Tensors\n",
    "\n",
    "In PyTorch kunnen tensors op verschillende manieren worden gemaakt, bijvoorbeeld door gebruik te maken van torch.tensor(), of door gebruik te maken van functies zoals torch.zeros(), torch.ones(), en torch.arange()."
   ]
  },
  {
   "cell_type": "code",
   "execution_count": 2,
   "id": "02eb0cae-95f0-4ef7-abb2-325ecc77c6d5",
   "metadata": {},
   "outputs": [
    {
     "name": "stdout",
     "output_type": "stream",
     "text": [
      "tensor([1, 2, 3])\n",
      "tensor([[0., 0., 0.],\n",
      "        [0., 0., 0.]])\n",
      "tensor([1., 1., 1., 1.])\n",
      "tensor([0, 2, 4, 6, 8])\n"
     ]
    }
   ],
   "source": [
    "# Een tensor maken van een lijst\n",
    "a = torch.tensor([1, 2, 3])\n",
    "print(a)\n",
    "\n",
    "# Een tensor maken gevuld met nullen\n",
    "b = torch.zeros(2, 3)\n",
    "print(b)\n",
    "\n",
    "# Een tensor maken gevuld met enen\n",
    "c = torch.ones(4)\n",
    "print(c)\n",
    "\n",
    "# Een tensor maken met een range van waarden\n",
    "d = torch.arange(0, 10, 2)\n",
    "print(d)\n"
   ]
  },
  {
   "cell_type": "markdown",
   "id": "57039736-a7b4-449a-a697-34943f6d0423",
   "metadata": {},
   "source": [
    "### Oefening\n",
    "\n",
    "Maak de volgende tensors:\n",
    "\n",
    "* Een scalair met de waarde 7.\n",
    "* Een vector met de waarden [10, 20, 30, 40].\n",
    "* Een matrix met de waarden [[1, 2], [3, 4], [5, 6]].\n",
    "* Een 3-dimensionale tensor met de waarden [[[1, 2], [3, 4]], [[5, 6], [7, 8]], [[9, 10], [11, 12]]].\n",
    "* Een tensor met random waarden met dezelfde shape als de vorige tensor. Tip: rand_like\n",
    "* Een tensor gevuld met nullen met de vorm (3, 2).\n",
    "* Een tensor gevuld met enen met de vorm (2, 2, 2).\n",
    "* Een tensor met de waarden van 0 tot 9.\n",
    "* Een tensor met willekeurige waarden met de vorm (3, 3)."
   ]
  },
  {
   "cell_type": "code",
   "execution_count": 8,
   "id": "ecd2d8f1-3780-4510-a212-c9d75500c132",
   "metadata": {},
   "outputs": [
    {
     "name": "stdout",
     "output_type": "stream",
     "text": [
      "tensor([[[0.6846, 0.0396],\n",
      "         [0.8874, 0.6539]],\n",
      "\n",
      "        [[0.3057, 0.1836],\n",
      "         [0.5652, 0.3845]],\n",
      "\n",
      "        [[0.9294, 0.6004],\n",
      "         [0.9677, 0.0466]]])\n",
      "tensor([[0.1500, 0.5125, 0.0227],\n",
      "        [0.4960, 0.8714, 0.4024],\n",
      "        [0.5727, 0.8136, 0.1633]])\n"
     ]
    }
   ],
   "source": [
    "vraag1 = torch.tensor(7)\n",
    "vraag2 = torch.tensor([10,20,30,40])\n",
    "vraag3 = torch.tensor([[1,2], [3,4], [5,6]])\n",
    "vraag4 = torch.tensor([[[1, 2], [3, 4]], [[5, 6], [7, 8]], [[9, 10], [11, 12]]])\n",
    "vraag5 = torch.rand_like(vraag4, dtype=torch.float)   #dtype niet vergeten want vraag4 tensor heeft geen kommagetallen\n",
    "print(vraag5)\n",
    "vraag6 = torch.zeros(3,2)\n",
    "vraag7 = torch.zeros(2,2,2)\n",
    "vraag8 = torch.arange(0,9)\n",
    "vraag9 = torch.rand(3,3)\n",
    "print(vraag9)"
   ]
  },
  {
   "cell_type": "markdown",
   "id": "27519549-9e68-4ff1-916b-d2e9b888ac8b",
   "metadata": {},
   "source": [
    "# Hoe indexeer je Tensors\n",
    "\n",
    "Net zoals arrays kunnen tensors worden geïndexeerd om specifieke elementen of delen van de tensor op te halen. Je kunt slicing en integer indexing gebruiken om elementen of sub-tensors te verkrijgen."
   ]
  },
  {
   "cell_type": "code",
   "execution_count": null,
   "id": "5c94fe86-5748-48e6-9846-ecfba9f0fd27",
   "metadata": {},
   "outputs": [],
   "source": [
    "tensor = torch.tensor([[1, 2, 3], [4, 5, 6], [7, 8, 9]])\n",
    "\n",
    "# Een element ophalen\n",
    "print(tensor[0, 0])  # Output: 1\n",
    "\n",
    "# Een rij ophalen\n",
    "print(tensor[0, :])  # Output: [1, 2, 3]\n",
    "\n",
    "# Een kolom ophalen\n",
    "print(tensor[:, 1])  # Output: [2, 5, 8]\n",
    "\n",
    "# Een sub-tensor ophalen\n",
    "print(tensor[1:, 1:])  # Output: [[5, 6], [8, 9]]\n"
   ]
  },
  {
   "cell_type": "markdown",
   "id": "c4bd4602-38fc-4a5a-bdf5-7f36f913fd30",
   "metadata": {},
   "source": [
    "### Oefening\n",
    "\n",
    "Gegeven de tensor t = torch.tensor([[10, 20, 30], [40, 50, 60], [70, 80, 90]]), haal de volgende elementen op:\n",
    "\n",
    "* Het element in de eerste rij en derde kolom.\n",
    "* De tweede rij.\n",
    "* De tweede kolom.\n",
    "* Het sub-tensor bestaande uit de laatste twee rijen en de laatste twee kolommen."
   ]
  },
  {
   "cell_type": "code",
   "execution_count": 9,
   "id": "2ba54230-ca5f-4cd4-b66c-c553e0ba33de",
   "metadata": {},
   "outputs": [
    {
     "name": "stdout",
     "output_type": "stream",
     "text": [
      "tensor(30)\n",
      "tensor([40, 50, 60])\n",
      "tensor([20, 50, 80])\n",
      "tensor([[50, 60],\n",
      "        [80, 90]])\n"
     ]
    }
   ],
   "source": [
    "t = torch.tensor([[10, 20, 30], [40, 50, 60], [70, 80, 90]])\n",
    "print(t[0, 2])\n",
    "print(t[1]) # idem aan t[1, :]\n",
    "print(t[:, 1])\n",
    "print(t[-2:, -2:])  # idem aan t[1:, 1:]"
   ]
  },
  {
   "cell_type": "markdown",
   "id": "cc02758a-1388-4da7-8dcc-184a4412cfd9",
   "metadata": {},
   "source": [
    "## Hoe manipuleer je de gegevens in Tensors\n",
    "\n",
    "Je kunt de waarden in een tensor manipuleren door middel van elementgewijze operaties, zoals optellen, aftrekken, vermenigvuldigen en delen."
   ]
  },
  {
   "cell_type": "code",
   "execution_count": 3,
   "id": "3f413c04-9a30-4af1-a532-d6bc16225ba3",
   "metadata": {},
   "outputs": [
    {
     "name": "stdout",
     "output_type": "stream",
     "text": [
      "tensor([5, 7, 9])\n",
      "tensor([-3, -3, -3])\n",
      "tensor([ 4, 10, 18])\n",
      "tensor([0.2500, 0.4000, 0.5000])\n"
     ]
    }
   ],
   "source": [
    "a = torch.tensor([1, 2, 3])\n",
    "b = torch.tensor([4, 5, 6])\n",
    "\n",
    "# Optellen\n",
    "c = a + b\n",
    "print(c)\n",
    "\n",
    "# Aftrekken\n",
    "d = a - b\n",
    "print(d)\n",
    "\n",
    "# Vermenigvuldigen\n",
    "e = a * b\n",
    "print(e)\n",
    "\n",
    "# Delen\n",
    "f = a / b\n",
    "print(f)"
   ]
  },
  {
   "cell_type": "markdown",
   "id": "aefdd4c4-8dd6-4179-a435-4ce849aced33",
   "metadata": {},
   "source": [
    "### Oefening\n",
    "\n",
    "Gegeven de tensors x = torch.tensor([10, 20, 30]) en y = torch.tensor([1, 2, 3]), voer de volgende bewerkingen uit:\n",
    "\n",
    "* Tel x en y op.\n",
    "* Trek y af van x.\n",
    "* Vermenigvuldig x met y (element gewijs).\n",
    "* Deel x door y.\n",
    "* Voeg de x en y tensors samen tot een tensor met shape (2, 3). Tip: cat\n",
    "* Vermenigvulding x met de getransponeerde van y (matrixvermenigvuldiging). Tip: operator @ en matmul"
   ]
  },
  {
   "cell_type": "code",
   "execution_count": 20,
   "id": "f15f4f6c-d635-4a02-977f-61ef12d6fd90",
   "metadata": {},
   "outputs": [
    {
     "name": "stdout",
     "output_type": "stream",
     "text": [
      "tensor([11, 22, 33])\n",
      "tensor([ 9, 18, 27])\n",
      "tensor([10, 40, 90])\n",
      "tensor([10., 10., 10.])\n",
      "tensor([[10, 20, 30],\n",
      "        [ 1,  2,  3]])\n",
      "tensor(140)\n"
     ]
    },
    {
     "name": "stderr",
     "output_type": "stream",
     "text": [
      "/tmp/ipykernel_468/2840052004.py:11: UserWarning: The use of `x.T` on tensors of dimension other than 2 to reverse their shape is deprecated and it will throw an error in a future release. Consider `x.mT` to transpose batches of matrices or `x.permute(*torch.arange(x.ndim - 1, -1, -1))` to reverse the dimensions of a tensor. (Triggered internally at /opt/conda/conda-bld/pytorch_1708025847130/work/aten/src/ATen/native/TensorShape.cpp:3637.)\n",
      "  print(x @ y.T)\n"
     ]
    }
   ],
   "source": [
    "x = torch.tensor([10, 20, 30])\n",
    "y = torch.tensor([1, 2, 3])\n",
    "\n",
    "print(x+y)\n",
    "print(x-y)\n",
    "print(x*y)\n",
    "print(x/y)\n",
    "print(torch.cat((x.unsqueeze(0),y.unsqueeze(0))))\n",
    "#print(x.shape)\n",
    "#print(x.unsqueeze(-1))\n",
    "print(x @ y.T) # .T want we kunnen niet 1x3 matrix vermenigvuldigen met 1x3 dus moet y omgezet worden naar 3x1 (transponeren)"
   ]
  },
  {
   "cell_type": "markdown",
   "id": "7c46bff0-7ca3-4619-b426-c6e7efeee4df",
   "metadata": {},
   "source": [
    "## Hoe manipuleer je de vorm van Tensors\n",
    "\n",
    "De vorm van een tensor kan worden veranderd met behulp van functies zoals reshape(), view() en transpose()."
   ]
  },
  {
   "cell_type": "code",
   "execution_count": 21,
   "id": "6215f934-0462-4dcf-a8f1-febca0bf4fc6",
   "metadata": {},
   "outputs": [
    {
     "name": "stdout",
     "output_type": "stream",
     "text": [
      "tensor([[1, 2],\n",
      "        [3, 4],\n",
      "        [5, 6]])\n",
      "tensor([[1, 4],\n",
      "        [2, 5],\n",
      "        [3, 6]])\n"
     ]
    }
   ],
   "source": [
    "tensor = torch.tensor([[1, 2, 3], [4, 5, 6]])\n",
    "\n",
    "# Herschikken van de tensor naar een andere vorm\n",
    "reshaped_tensor = tensor.reshape(3, 2)\n",
    "print(reshaped_tensor)\n",
    "\n",
    "# De tensor transponeren\n",
    "transposed_tensor = tensor.t()\n",
    "print(transposed_tensor)\n"
   ]
  },
  {
   "cell_type": "markdown",
   "id": "d7a0b5a6-d633-410c-8049-f82c3e1aa269",
   "metadata": {},
   "source": [
    "### Oefening\n",
    "\n",
    "Gegeven de tensor z = torch.tensor([[1, 2, 3, 4], [5, 6, 7, 8]]), voer de volgende bewerkingen uit:\n",
    "\n",
    "* Herschik de tensor naar de vorm (4, 2).\n",
    "* Transponeer de tensor.\n",
    "* Herschik de tensor naar een 1-dimensionale tensor met 8 elementen.\n",
    "* Voeg een extra dimensie aan de originele z-vector toe zodat de shape (1,2,4) is. Tip: unsqueeze"
   ]
  },
  {
   "cell_type": "code",
   "execution_count": 26,
   "id": "a24228a4-aef5-4e1b-bd75-f00053a02160",
   "metadata": {},
   "outputs": [
    {
     "name": "stdout",
     "output_type": "stream",
     "text": [
      "tensor([[1, 2],\n",
      "        [3, 4],\n",
      "        [5, 6],\n",
      "        [7, 8]])\n",
      "tensor([[1, 5],\n",
      "        [2, 6],\n",
      "        [3, 7],\n",
      "        [4, 8]])\n",
      "tensor([1, 2, 3, 4, 5, 6, 7, 8])\n",
      "tensor([1, 2, 3, 4, 5, 6, 7, 8])\n",
      "tensor([1, 2, 3, 4, 5, 6, 7, 8])\n",
      "tensor([[[1, 2, 3, 4],\n",
      "         [5, 6, 7, 8]]])\n"
     ]
    }
   ],
   "source": [
    "z = torch.tensor([[1, 2, 3, 4], [5, 6, 7, 8]])\n",
    "\n",
    "print(z.reshape(4,2))\n",
    "print(z.t())\n",
    "print(z.reshape(8))\n",
    "#alternatief\n",
    "print(z.view(-1)) # bekijk de tensor z als een tensor met als shape het argument (-1 voor alles in 1 rij)\n",
    "print(torch.flatten(z))\n",
    "\n",
    "print(z.unsqueeze(0))"
   ]
  },
  {
   "cell_type": "code",
   "execution_count": null,
   "id": "031beecb-fb1f-4592-95f4-075c2cc39df1",
   "metadata": {},
   "outputs": [],
   "source": []
  }
 ],
 "metadata": {
  "kernelspec": {
   "display_name": "Python 3 (ipykernel)",
   "language": "python",
   "name": "python3"
  },
  "language_info": {
   "codemirror_mode": {
    "name": "ipython",
    "version": 3
   },
   "file_extension": ".py",
   "mimetype": "text/x-python",
   "name": "python",
   "nbconvert_exporter": "python",
   "pygments_lexer": "ipython3",
   "version": "3.10.13"
  },
  "vscode": {
   "interpreter": {
    "hash": "d5e8e3a19af5ceb2434683dff87da6345c3b29f7eb0a8a138558c07d014a01cc"
   }
  }
 },
 "nbformat": 4,
 "nbformat_minor": 5
}
