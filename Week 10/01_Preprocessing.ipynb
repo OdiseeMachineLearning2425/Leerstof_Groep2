{
 "cells": [
  {
   "cell_type": "markdown",
   "id": "a71d2908-eb4a-41a7-9ba6-70614244aae5",
   "metadata": {},
   "source": [
    "# Preprocessing - classificatie van nieuwsartikelen\n",
    "\n",
    "In deze notebook gaan we nieuwsartikelen classificeren. Om dit met pytorch zelf te doen heb je wat meer manueel preprocessing werk aangezien de torchtext momenteel niet ondersteund wordt in combinatie met de laatste versie met pytorch.\n",
    "Om deze reden gaan we hier verder werken met Keras met een pytorch backend."
   ]
  },
  {
   "cell_type": "code",
   "execution_count": 17,
   "id": "dea664d5-5916-4f1f-b582-5c0839feb7d8",
   "metadata": {},
   "outputs": [],
   "source": [
    "# Import necessary libraries\n",
    "import numpy as np\n",
    "import pandas as pd\n",
    "from keras.models import Sequential\n",
    "from keras.layers import Dense, Embedding, LSTM, GlobalAveragePooling1D\n",
    "from keras_preprocessing.text import Tokenizer\n",
    "from keras.preprocessing.sequence import pad_sequences\n",
    "from keras.utils import to_categorical\n",
    "from sklearn.model_selection import train_test_split\n",
    "import opendatasets as od"
   ]
  },
  {
   "cell_type": "markdown",
   "id": "ce355f7a-bf20-4751-84ab-f65e62f0c1c9",
   "metadata": {},
   "source": [
    "## Data inladen - Nieuwsberichten\n",
    "\n",
    "We gebruiken de AG_NEWS dataset die gedownload kan worden van kaggle met deze link: https://www.kaggle.com/datasets/amananandrai/ag-news-classification-dataset"
   ]
  },
  {
   "cell_type": "code",
   "execution_count": 21,
   "id": "27b51938-93b4-44ac-9a98-37209df77f38",
   "metadata": {},
   "outputs": [
    {
     "name": "stdout",
     "output_type": "stream",
     "text": [
      "Skipping, found downloaded files in \"./ag-news-classification-dataset\" (use force=True to force download)\n"
     ]
    },
    {
     "data": {
      "text/html": [
       "<div>\n",
       "<style scoped>\n",
       "    .dataframe tbody tr th:only-of-type {\n",
       "        vertical-align: middle;\n",
       "    }\n",
       "\n",
       "    .dataframe tbody tr th {\n",
       "        vertical-align: top;\n",
       "    }\n",
       "\n",
       "    .dataframe thead th {\n",
       "        text-align: right;\n",
       "    }\n",
       "</style>\n",
       "<table border=\"1\" class=\"dataframe\">\n",
       "  <thead>\n",
       "    <tr style=\"text-align: right;\">\n",
       "      <th></th>\n",
       "      <th>label</th>\n",
       "      <th>title</th>\n",
       "      <th>description</th>\n",
       "      <th>text</th>\n",
       "    </tr>\n",
       "  </thead>\n",
       "  <tbody>\n",
       "    <tr>\n",
       "      <th>0</th>\n",
       "      <td>2</td>\n",
       "      <td>Wall St. Bears Claw Back Into the Black (Reuters)</td>\n",
       "      <td>Reuters - Short-sellers, Wall Street's dwindli...</td>\n",
       "      <td>Wall St. Bears Claw Back Into the Black (Reute...</td>\n",
       "    </tr>\n",
       "    <tr>\n",
       "      <th>1</th>\n",
       "      <td>2</td>\n",
       "      <td>Carlyle Looks Toward Commercial Aerospace (Reu...</td>\n",
       "      <td>Reuters - Private investment firm Carlyle Grou...</td>\n",
       "      <td>Carlyle Looks Toward Commercial Aerospace (Reu...</td>\n",
       "    </tr>\n",
       "    <tr>\n",
       "      <th>2</th>\n",
       "      <td>2</td>\n",
       "      <td>Oil and Economy Cloud Stocks' Outlook (Reuters)</td>\n",
       "      <td>Reuters - Soaring crude prices plus worries\\ab...</td>\n",
       "      <td>Oil and Economy Cloud Stocks' Outlook (Reuters...</td>\n",
       "    </tr>\n",
       "    <tr>\n",
       "      <th>3</th>\n",
       "      <td>2</td>\n",
       "      <td>Iraq Halts Oil Exports from Main Southern Pipe...</td>\n",
       "      <td>Reuters - Authorities have halted oil export\\f...</td>\n",
       "      <td>Iraq Halts Oil Exports from Main Southern Pipe...</td>\n",
       "    </tr>\n",
       "    <tr>\n",
       "      <th>4</th>\n",
       "      <td>2</td>\n",
       "      <td>Oil prices soar to all-time record, posing new...</td>\n",
       "      <td>AFP - Tearaway world oil prices, toppling reco...</td>\n",
       "      <td>Oil prices soar to all-time record, posing new...</td>\n",
       "    </tr>\n",
       "  </tbody>\n",
       "</table>\n",
       "</div>"
      ],
      "text/plain": [
       "   label                                              title  \\\n",
       "0      2  Wall St. Bears Claw Back Into the Black (Reuters)   \n",
       "1      2  Carlyle Looks Toward Commercial Aerospace (Reu...   \n",
       "2      2    Oil and Economy Cloud Stocks' Outlook (Reuters)   \n",
       "3      2  Iraq Halts Oil Exports from Main Southern Pipe...   \n",
       "4      2  Oil prices soar to all-time record, posing new...   \n",
       "\n",
       "                                         description  \\\n",
       "0  Reuters - Short-sellers, Wall Street's dwindli...   \n",
       "1  Reuters - Private investment firm Carlyle Grou...   \n",
       "2  Reuters - Soaring crude prices plus worries\\ab...   \n",
       "3  Reuters - Authorities have halted oil export\\f...   \n",
       "4  AFP - Tearaway world oil prices, toppling reco...   \n",
       "\n",
       "                                                text  \n",
       "0  Wall St. Bears Claw Back Into the Black (Reute...  \n",
       "1  Carlyle Looks Toward Commercial Aerospace (Reu...  \n",
       "2  Oil and Economy Cloud Stocks' Outlook (Reuters...  \n",
       "3  Iraq Halts Oil Exports from Main Southern Pipe...  \n",
       "4  Oil prices soar to all-time record, posing new...  "
      ]
     },
     "metadata": {},
     "output_type": "display_data"
    }
   ],
   "source": [
    "od.download(\"https://www.kaggle.com/datasets/amananandrai/ag-news-classification-dataset\")\n",
    "\n",
    "# Load the dataset\n",
    "def read_csv(filename):\n",
    "    df = pd.read_csv(filename)\n",
    "    df.columns = [\"label\", \"title\", \"description\"]\n",
    "    df[\"text\"] = df['title'] + ' ' + df['description']\n",
    "    df['label'] = df['label'] - 1\n",
    "    return df\n",
    "\n",
    "df_train = read_csv('./ag-news-classification-dataset/train.csv')\n",
    "display(df_train.head())\n",
    "\n",
    "df_test = read_csv('./ag-news-classification-dataset/test.csv')"
   ]
  },
  {
   "cell_type": "markdown",
   "id": "e413ecba-d868-4382-a6d5-c3de2806b8f4",
   "metadata": {},
   "source": [
    "## Preprocessing - tokenizer"
   ]
  },
  {
   "cell_type": "code",
   "execution_count": 22,
   "id": "31fc55f8-8b8a-45f2-b6ca-53fbb516772a",
   "metadata": {},
   "outputs": [],
   "source": []
  },
  {
   "cell_type": "markdown",
   "id": "39caa9ed-3748-452d-90b2-681e53a9956a",
   "metadata": {},
   "source": [
    "## Neuraal netwerk met embedding"
   ]
  },
  {
   "cell_type": "code",
   "execution_count": null,
   "id": "c5a9a814-6e2e-484e-8215-7ac98e528d63",
   "metadata": {},
   "outputs": [],
   "source": []
  }
 ],
 "metadata": {
  "kernelspec": {
   "display_name": "Python 3 (ipykernel)",
   "language": "python",
   "name": "python3"
  },
  "language_info": {
   "codemirror_mode": {
    "name": "ipython",
    "version": 3
   },
   "file_extension": ".py",
   "mimetype": "text/x-python",
   "name": "python",
   "nbconvert_exporter": "python",
   "pygments_lexer": "ipython3",
   "version": "3.10.15"
  }
 },
 "nbformat": 4,
 "nbformat_minor": 5
}
