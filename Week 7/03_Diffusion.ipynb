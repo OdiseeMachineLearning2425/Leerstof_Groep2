{
 "cells": [
  {
   "cell_type": "markdown",
   "id": "c7816702-cdf3-4072-883a-700f6db03e30",
   "metadata": {},
   "source": [
    "# Diffusion Model met Fashion MNIST in PyTorch\n",
    "\n",
    "Het doel van dit notebook is om een diffusion model te implementeren dat leert om ruis van afbeeldingen te verwijderen en nieuwe afbeeldingen van mode-items te genereren die vergelijkbaar zijn met de Fashion MNIST dataset.\n",
    "\n",
    "## Importeren van packages en dataset\n",
    "\n",
    "In onderstaande code worden de volgende stappen uitgevoerd:\n",
    "* Laad de Fashion MNIST dataset en normaliseer de afbeeldingen naar het bereik [-1, 1]\n",
    "* Maak een DataLoader om batches van trainingsgegevens te genereren\n",
    "* Voeg functies toe om eenvoudiger te kunnen werken met ruis"
   ]
  },
  {
   "cell_type": "code",
   "execution_count": null,
   "id": "ab318302-140d-49cc-94e1-35d204d3002d",
   "metadata": {},
   "outputs": [],
   "source": [
    "# Importeren van benodigde bibliotheken\n",
    "import torch\n",
    "import torch.nn as nn\n",
    "import torch.optim as optim\n",
    "import torchvision\n",
    "from torchvision import datasets, transforms\n",
    "from torch.utils.data import DataLoader\n",
    "import matplotlib.pyplot as plt\n",
    "import numpy as np\n",
    "import math\n",
    "import os\n",
    "\n",
    "# Controleer of er een GPU beschikbaar is, zo niet gebruik de CPU\n",
    "device = torch.device(\"cuda\" if torch.cuda.is_available() else \"cpu\")\n",
    "\n",
    "# Data-transformatie: normaliseer de afbeeldingen zodat de pixelwaarden tussen -1 en 1 liggen\n",
    "transform = transforms.Compose([\n",
    "    transforms.ToTensor(),  # Converteert beeld naar tensor\n",
    "])\n",
    "\n",
    "# FashionMNIST dataset downloaden en laden\n",
    "train_dataset = datasets.FashionMNIST(root='./data', train=True, transform=transform, download=True)\n",
    "\n",
    "# DataLoader voor batches van de trainingsdata\n",
    "train_loader = DataLoader(dataset=train_dataset, batch_size=8, shuffle=True)\n",
    "\n",
    "print(\"Data geladen en DataLoader klaar.\")\n",
    "\n",
    "x, y = next(iter(train_loader))\n",
    "print('Input shape:', x.shape)\n",
    "print('Labels:', y)\n",
    "plt.imshow(torchvision.utils.make_grid(x)[0], cmap='Greys')"
   ]
  },
  {
   "cell_type": "code",
   "execution_count": null,
   "id": "bbe0c68e-a70a-4937-83f9-131daa58824f",
   "metadata": {},
   "outputs": [],
   "source": []
  },
  {
   "cell_type": "markdown",
   "id": "a8ec9ba2-560e-477d-a46c-65ae67ff412a",
   "metadata": {},
   "source": [
    "## Bouwen van een model\n",
    "\n",
    "In deze notebook gaan we werken met een eenvoudig U-Net model dat de taak van ruisvoorspelling uitvoert. Het model bestaat uit encoder-, midden- en decoderlagen. Het model voorspelt de ruis die is toegevoegd aan een afbeelding en probeert deze te verwijderen.\n",
    "Ook andere modellen kunnen hiervoor gebruikt worden."
   ]
  },
  {
   "cell_type": "code",
   "execution_count": null,
   "id": "de4a2a06-20ae-4a12-b069-4e4c74fbceab",
   "metadata": {},
   "outputs": [],
   "source": []
  },
  {
   "cell_type": "markdown",
   "id": "62c493b3-c19a-423f-8808-393cc836d4ed",
   "metadata": {},
   "source": [
    "## Trainen van het model\n",
    "\n",
    "Om het model te trainen wordt de verliesfunctie MSE-loss en de Adam-optimizer gebruikt. \n",
    "Daarnaast berekenen we de betas voor het diffusieproces met behulp van een lineaire verdeling over 1000 timesteps.\n",
    "\n",
    "Ten slotte wordt het diffusiemodel getraind. Voor elke batch van trainingsafbeeldingen wordt een willekeurige tijdstap gekozen om ruis toe te voegen aan de afbeelding. Het model leert vervolgens de toegevoegde ruis te voorspellen en te verwijderen. Voor elke epoch wordt het verlies uitgeprint."
   ]
  },
  {
   "cell_type": "code",
   "execution_count": null,
   "id": "813b06d4-45c2-4e88-886a-bf75283845f0",
   "metadata": {},
   "outputs": [],
   "source": []
  },
  {
   "cell_type": "markdown",
   "id": "891eb872-2f2d-4951-923e-384fe5007a64",
   "metadata": {},
   "source": [
    "## Visualisatie"
   ]
  },
  {
   "cell_type": "code",
   "execution_count": null,
   "id": "70f84ae7-9a11-4ae2-9cbc-93f012548db1",
   "metadata": {},
   "outputs": [],
   "source": []
  },
  {
   "cell_type": "code",
   "execution_count": null,
   "id": "b6019dc5-b412-4c5b-a821-7ec98df74a24",
   "metadata": {},
   "outputs": [],
   "source": []
  },
  {
   "cell_type": "markdown",
   "id": "7ad2883f-deda-46f6-84ea-c126333eb960",
   "metadata": {},
   "source": [
    "### Opmerkingen:\n",
    "\n",
    "De hierboven gevolgde aanpak is een vereenvoudigde voorstelling van de state-of-the-art diffusion model die wel goed de te volgen concepten uitlegt.\n",
    "Een meer gedetailleerde uitleg van diffusion models vind je [DDPM paper](https://arxiv.org/abs/2006.11239)\n",
    "In deze paper breiden ze het voorbeeld in deze notebook uit door:\n",
    "* Een geavanceerder UNet-model te gebruiken\n",
    "* Een complexere manier om ruis toe te voegen\n",
    "* Niet rechtstreeks het begin image te voorspellen maar de ruis in een image te voorspellen\n",
    "* Gebruik een timestep in plaats van een amount-waarde"
   ]
  },
  {
   "cell_type": "code",
   "execution_count": null,
   "id": "89b92518-20f5-4e92-b801-d94ae144c5f2",
   "metadata": {},
   "outputs": [],
   "source": []
  }
 ],
 "metadata": {
  "kernelspec": {
   "display_name": "Python 3",
   "language": "python",
   "name": "python3"
  },
  "language_info": {
   "codemirror_mode": {
    "name": "ipython",
    "version": 3
   },
   "file_extension": ".py",
   "mimetype": "text/x-python",
   "name": "python",
   "nbconvert_exporter": "python",
   "pygments_lexer": "ipython3",
   "version": "3.12.5"
  }
 },
 "nbformat": 4,
 "nbformat_minor": 5
}
