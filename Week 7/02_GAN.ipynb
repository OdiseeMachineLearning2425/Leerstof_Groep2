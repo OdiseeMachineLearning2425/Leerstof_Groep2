{
 "cells": [
  {
   "cell_type": "markdown",
   "id": "73e730cc-69c0-4b82-bb58-25a163fa4aad",
   "metadata": {},
   "source": [
    "# GAN met Fashion MNIST\n",
    "\n",
    "In deze notebook gaan we opnieuw beelden genereren op basis van de Fashin MNIST dataset, net zoals in de vorige notebook over variational autoencoders (VAE). \n",
    "Hierbij moeten we een generator en discriminator opstellen.\n",
    "\n",
    "## Importeren van packages en dataset\n",
    "\n",
    "Eerst importeren we alle benodigde Python-bibliotheken voor het bouwen, trainen en visualiseren van onze VAE.\n",
    "We gebruiken Pytorch voor het bouwen van het neurale netwerk, matplotlib voor visualisaties en NumPy voor numerieke berekeningen.\n",
    "Daarna laden we de Fashion MNIST dataset, normaliseren de pixelwaarden naar de range [-1,1] \n",
    "en splitsen de dataset in een trainings- en testset. We gebruiken DataLoader om mini-batches te maken voor training."
   ]
  },
  {
   "cell_type": "code",
   "execution_count": null,
   "id": "1737c9cf-73df-433c-95b1-aa0c9e36f383",
   "metadata": {},
   "outputs": [],
   "source": [
    "# Importeren van benodigde bibliotheken\n",
    "import torch\n",
    "import torch.nn as nn\n",
    "import torch.optim as optim\n",
    "from torchvision import datasets, transforms\n",
    "from torch.utils.data import DataLoader\n",
    "import matplotlib.pyplot as plt\n",
    "import numpy as np\n",
    "\n",
    "# Controleer of er een GPU beschikbaar is, zo niet gebruik de CPU\n",
    "device = torch.device(\"cuda\" if torch.cuda.is_available() else \"cpu\")\n",
    "\n",
    "# Data-transformatie: normaliseer de afbeeldingen zodat de pixelwaarden tussen -1 en 1 liggen\n",
    "transform = transforms.Compose([\n",
    "    transforms.ToTensor(),  # Converteert beeld naar tensor\n",
    "    transforms.Normalize((0.5,), (0.5,))  # Normaliseert naar bereik [-1, 1]\n",
    "])\n",
    "\n",
    "# FashionMNIST dataset downloaden en laden\n",
    "train_dataset = datasets.FashionMNIST(root='./data', train=True, transform=transform, download=True)\n",
    "\n",
    "# DataLoader voor batches van de trainingsdata\n",
    "train_loader = DataLoader(dataset=train_dataset, batch_size=64, shuffle=True)\n",
    "\n",
    "print(\"Data geladen en DataLoader klaar.\")"
   ]
  },
  {
   "cell_type": "markdown",
   "id": "43fe9ec8-a50e-43bf-beb2-6512baea7425",
   "metadata": {},
   "source": [
    "## Generator\n",
    "\n",
    " Deze cel definieert de generator die een random vector van ruis (latent vector) gebruikt om een afbeelding van 28x28 pixels te genereren. Het netwerk bestaat uit vier volledig verbonden lagen met ReLU-activatie, gevolgd door een Tanh activatie om de output te normaliseren."
   ]
  },
  {
   "cell_type": "code",
   "execution_count": null,
   "id": "874fb7ab-4bd0-4f04-af4f-f2d83ca3f8d3",
   "metadata": {},
   "outputs": [],
   "source": []
  },
  {
   "cell_type": "markdown",
   "id": "9bcf2452-9b43-4d32-aad2-54b6b5f935a8",
   "metadata": {},
   "source": [
    "## Discriminator\n",
    "\n",
    "Deze cel definieert de discriminator, die een afbeelding van 28x28 pixels als invoer ontvangt en een enkele waarde teruggeeft die aangeeft of de afbeelding echt is (uit de dataset) of vals (gegenereerd door de generator). Het netwerk bestaat uit vier volledig verbonden lagen met LeakyReLU-activatie en dropout om overfitting te voorkomen."
   ]
  },
  {
   "cell_type": "code",
   "execution_count": null,
   "id": "0bbe85dc-37df-4501-9767-b5636cf04030",
   "metadata": {},
   "outputs": [],
   "source": []
  },
  {
   "cell_type": "markdown",
   "id": "e0a07f9a-1b9d-4548-867f-1c7e72369ecd",
   "metadata": {},
   "source": [
    "## Loss functions\n",
    "\n",
    "In deze cel worden de verliesfunctie en de optimalizers voor de generator en discriminator gedefinieerd. We gebruiken binaire cross-entropy (BCELoss) als verliesfunctie en de Adam-optimizer voor zowel de generator als de discriminator."
   ]
  },
  {
   "cell_type": "code",
   "execution_count": null,
   "id": "d6f3fcc3-2f36-4882-81ef-75cdeccbb41b",
   "metadata": {},
   "outputs": [],
   "source": []
  },
  {
   "cell_type": "markdown",
   "id": "2f861192-bcd6-4ea3-8b46-d668028f696c",
   "metadata": {},
   "source": [
    "## Trainen van het GAN model\n",
    "\n",
    "De discriminator wordt getraind met zowel echte als gegenereerde afbeeldingen om te leren onderscheid te maken tussen de twee, terwijl de generator wordt getraind om betere afbeeldingen te genereren die de discriminator niet kan onderscheiden van echte. Voor elke epoch printen we het verlies van zowel de generator als de discriminator."
   ]
  },
  {
   "cell_type": "code",
   "execution_count": null,
   "id": "dc0d4d1a-46a5-40d3-b256-0fbf3ec86189",
   "metadata": {
    "scrolled": true
   },
   "outputs": [],
   "source": []
  },
  {
   "cell_type": "markdown",
   "id": "a6bcff63-ec4a-46cb-a2c9-b559bbe75a04",
   "metadata": {},
   "source": [
    "## Visualiseren van de resultaten\n",
    "\n",
    "Deze cel definieert een functie om enkele gegenereerde afbeeldingen van de getrainde generator te visualiseren. Het genereert willekeurige ruis en laat de generator nieuwe afbeeldingen maken, die vervolgens worden weergegeven met behulp van Matplotlib."
   ]
  },
  {
   "cell_type": "code",
   "execution_count": null,
   "id": "bd2e57ab-d145-4323-b05f-60ccedbb39b3",
   "metadata": {},
   "outputs": [],
   "source": []
  }
 ],
 "metadata": {
  "kernelspec": {
   "display_name": "Python 3 (ipykernel)",
   "language": "python",
   "name": "python3"
  },
  "language_info": {
   "codemirror_mode": {
    "name": "ipython",
    "version": 3
   },
   "file_extension": ".py",
   "mimetype": "text/x-python",
   "name": "python",
   "nbconvert_exporter": "python",
   "pygments_lexer": "ipython3",
   "version": "3.10.13"
  }
 },
 "nbformat": 4,
 "nbformat_minor": 5
}
