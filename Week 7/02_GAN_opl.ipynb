{
 "cells": [
  {
   "cell_type": "markdown",
   "id": "73e730cc-69c0-4b82-bb58-25a163fa4aad",
   "metadata": {},
   "source": [
    "# GAN met Fashion MNIST\n",
    "\n",
    "In deze notebook gaan we opnieuw beelden genereren op basis van de Fashin MNIST dataset, net zoals in de vorige notebook over variational autoencoders (VAE). \n",
    "Hierbij moeten we een generator en discriminator opstellen.\n",
    "\n",
    "## Importeren van packages en dataset\n",
    "\n",
    "Eerst importeren we alle benodigde Python-bibliotheken voor het bouwen, trainen en visualiseren van onze VAE.\n",
    "We gebruiken Pytorch voor het bouwen van het neurale netwerk, matplotlib voor visualisaties en NumPy voor numerieke berekeningen.\n",
    "Daarna laden we de Fashion MNIST dataset, normaliseren de pixelwaarden naar de range [-1,1] \n",
    "en splitsen de dataset in een trainings- en testset. We gebruiken DataLoader om mini-batches te maken voor training."
   ]
  },
  {
   "cell_type": "code",
   "execution_count": 56,
   "id": "1737c9cf-73df-433c-95b1-aa0c9e36f383",
   "metadata": {},
   "outputs": [
    {
     "name": "stdout",
     "output_type": "stream",
     "text": [
      "Data geladen en DataLoader klaar.\n"
     ]
    }
   ],
   "source": [
    "# Importeren van benodigde bibliotheken\n",
    "import torch\n",
    "import torch.nn as nn\n",
    "import torch.optim as optim\n",
    "from torchvision import datasets, transforms\n",
    "from torch.utils.data import DataLoader\n",
    "import matplotlib.pyplot as plt\n",
    "import numpy as np\n",
    "import os\n",
    "\n",
    "# Controleer of er een GPU beschikbaar is, zo niet gebruik de CPU\n",
    "device = torch.device(\"cuda\" if torch.cuda.is_available() else \"cpu\")\n",
    "\n",
    "# Data-transformatie: normaliseer de afbeeldingen zodat de pixelwaarden tussen 0 en 1 liggen\n",
    "transform = transforms.Compose([\n",
    "    transforms.ToTensor(),  # Converteert beeld naar tensor\n",
    "    transforms.Normalize((0), (1.0))\n",
    "])\n",
    "\n",
    "# FashionMNIST dataset downloaden en laden\n",
    "train_dataset = datasets.FashionMNIST(root='./data', train=True, transform=transform, download=True)\n",
    "\n",
    "# DataLoader voor batches van de trainingsdata\n",
    "train_loader = DataLoader(dataset=train_dataset, batch_size=16, shuffle=True)\n",
    "\n",
    "print(\"Data geladen en DataLoader klaar.\")"
   ]
  },
  {
   "cell_type": "markdown",
   "id": "43fe9ec8-a50e-43bf-beb2-6512baea7425",
   "metadata": {},
   "source": [
    "## Generator\n",
    "\n",
    " Deze cel definieert de generator die een random vector van ruis (latent vector) gebruikt om een afbeelding van 28x28 pixels te genereren. Het netwerk bestaat uit vier volledig verbonden lagen met ReLU-activatie, gevolgd door een Tanh activatie om de output te normaliseren."
   ]
  },
  {
   "cell_type": "code",
   "execution_count": 57,
   "id": "874fb7ab-4bd0-4f04-af4f-f2d83ca3f8d3",
   "metadata": {},
   "outputs": [
    {
     "name": "stdout",
     "output_type": "stream",
     "text": [
      "Generator(\n",
      "  (model): Sequential(\n",
      "    (0): Linear(in_features=100, out_features=256, bias=True)\n",
      "    (1): ReLU()\n",
      "    (2): Linear(in_features=256, out_features=512, bias=True)\n",
      "    (3): ReLU()\n",
      "    (4): Linear(in_features=512, out_features=1024, bias=True)\n",
      "    (5): ReLU()\n",
      "    (6): Linear(in_features=1024, out_features=784, bias=True)\n",
      "    (7): Tanh()\n",
      "  )\n",
      ")\n"
     ]
    }
   ],
   "source": [
    "# Generator model\n",
    "class Generator(nn.Module):\n",
    "    def __init__(self, input_dim, output_dim):\n",
    "        super(Generator, self).__init__()\n",
    "        self.model = nn.Sequential(\n",
    "            nn.Linear(input_dim, 256),\n",
    "            nn.ReLU(),\n",
    "            nn.Linear(256, 512),\n",
    "            nn.ReLU(),\n",
    "            nn.Linear(512, 1024),\n",
    "            nn.ReLU(),\n",
    "            nn.Linear(1024, output_dim),\n",
    "            nn.Tanh()  # Gebruik Tanh om de output te normaliseren naar het bereik [-1, 1] (zelfde als input)\n",
    "        )\n",
    "        \n",
    "    def forward(self, x):\n",
    "        return self.model(x)\n",
    "\n",
    "# Initialiseer de generator\n",
    "latent_dim = 100  # Dimensie van de input ruis vector\n",
    "generator = Generator(input_dim=latent_dim, output_dim=28*28).to(device)\n",
    "print(generator)\n"
   ]
  },
  {
   "cell_type": "markdown",
   "id": "9bcf2452-9b43-4d32-aad2-54b6b5f935a8",
   "metadata": {},
   "source": [
    "## Discriminator\n",
    "\n",
    "Deze cel definieert de discriminator, die een afbeelding van 28x28 pixels als invoer ontvangt en een enkele waarde teruggeeft die aangeeft of de afbeelding echt is (uit de dataset) of vals (gegenereerd door de generator). Het netwerk bestaat uit vier volledig verbonden lagen met LeakyReLU-activatie en dropout om overfitting te voorkomen."
   ]
  },
  {
   "cell_type": "code",
   "execution_count": 58,
   "id": "0bbe85dc-37df-4501-9767-b5636cf04030",
   "metadata": {},
   "outputs": [
    {
     "name": "stdout",
     "output_type": "stream",
     "text": [
      "Discriminator(\n",
      "  (model): Sequential(\n",
      "    (0): Linear(in_features=784, out_features=1024, bias=True)\n",
      "    (1): LeakyReLU(negative_slope=0.2)\n",
      "    (2): Dropout(p=0.3, inplace=False)\n",
      "    (3): Linear(in_features=1024, out_features=512, bias=True)\n",
      "    (4): LeakyReLU(negative_slope=0.2)\n",
      "    (5): Dropout(p=0.3, inplace=False)\n",
      "    (6): Linear(in_features=512, out_features=256, bias=True)\n",
      "    (7): LeakyReLU(negative_slope=0.2)\n",
      "    (8): Dropout(p=0.3, inplace=False)\n",
      "    (9): Linear(in_features=256, out_features=1, bias=True)\n",
      "    (10): Sigmoid()\n",
      "  )\n",
      ")\n"
     ]
    }
   ],
   "source": [
    "# Discriminator model\n",
    "class Discriminator(nn.Module):\n",
    "    def __init__(self, input_dim):\n",
    "        super(Discriminator, self).__init__()\n",
    "        self.model = nn.Sequential(\n",
    "            nn.Linear(input_dim, 1024),\n",
    "            nn.LeakyReLU(0.2),\n",
    "            nn.Dropout(0.3),\n",
    "            nn.Linear(1024, 512),\n",
    "            nn.LeakyReLU(0.2),\n",
    "            nn.Dropout(0.3),\n",
    "            nn.Linear(512, 256),\n",
    "            nn.LeakyReLU(0.2),\n",
    "            nn.Dropout(0.3),\n",
    "            nn.Linear(256, 1),\n",
    "            nn.Sigmoid()  # Gebruik Sigmoid om de output te normaliseren naar het bereik [0, 1]\n",
    "        )\n",
    "        \n",
    "    def forward(self, x):\n",
    "        return self.model(x)\n",
    "\n",
    "# Initialiseer de discriminator\n",
    "discriminator = Discriminator(input_dim=28*28).to(device)\n",
    "print(discriminator)"
   ]
  },
  {
   "cell_type": "markdown",
   "id": "e0a07f9a-1b9d-4548-867f-1c7e72369ecd",
   "metadata": {},
   "source": [
    "## Loss functions\n",
    "\n",
    "In deze cel worden de verliesfunctie en de optimalizers voor de generator en discriminator gedefinieerd. We gebruiken binaire cross-entropy (BCELoss) als verliesfunctie en de Adam-optimizer voor zowel de generator als de discriminator."
   ]
  },
  {
   "cell_type": "code",
   "execution_count": 59,
   "id": "d6f3fcc3-2f36-4882-81ef-75cdeccbb41b",
   "metadata": {},
   "outputs": [],
   "source": [
    "# Verliesfunctie\n",
    "criterion = nn.BCELoss()\n",
    "\n",
    "# Optimalizers voor generator en discriminator\n",
    "lr = 0.0002\n",
    "optimizer_G = optim.Adam(generator.parameters(), lr=lr)\n",
    "optimizer_D = optim.Adam(discriminator.parameters(), lr=lr)\n"
   ]
  },
  {
   "cell_type": "markdown",
   "id": "2f861192-bcd6-4ea3-8b46-d668028f696c",
   "metadata": {},
   "source": [
    "## Trainen van het GAN model\n",
    "\n",
    "De discriminator wordt getraind met zowel echte als gegenereerde afbeeldingen om te leren onderscheid te maken tussen de twee, terwijl de generator wordt getraind om betere afbeeldingen te genereren die de discriminator niet kan onderscheiden van echte. Voor elke epoch printen we het verlies van zowel de generator als de discriminator."
   ]
  },
  {
   "cell_type": "code",
   "execution_count": 60,
   "id": "dc0d4d1a-46a5-40d3-b256-0fbf3ec86189",
   "metadata": {},
   "outputs": [
    {
     "name": "stdout",
     "output_type": "stream",
     "text": [
      "Epoch [1/10], d_loss: 1.2578, g_loss: 1.1237\n",
      "Epoch [2/10], d_loss: 0.6055, g_loss: 1.3142\n",
      "Epoch [3/10], d_loss: 0.8123, g_loss: 1.9726\n",
      "Epoch [4/10], d_loss: 0.9808, g_loss: 1.2835\n",
      "Epoch [5/10], d_loss: 0.9108, g_loss: 1.3654\n",
      "Epoch [6/10], d_loss: 0.9432, g_loss: 1.4311\n",
      "Epoch [7/10], d_loss: 1.1362, g_loss: 1.2871\n",
      "Epoch [8/10], d_loss: 0.9813, g_loss: 1.4506\n",
      "Epoch [9/10], d_loss: 0.8841, g_loss: 1.4848\n",
      "Epoch [10/10], d_loss: 1.2356, g_loss: 1.1574\n",
      "Model saved to 02_ganmodel_gen.pth\n",
      "Training voltooid.\n"
     ]
    }
   ],
   "source": [
    "# Functie om echte en neppe labels te maken\n",
    "def real_data_target(size):\n",
    "    return torch.ones(size, 1).to(device)\n",
    "\n",
    "def fake_data_target(size):\n",
    "    return torch.zeros(size, 1).to(device)\n",
    "    \n",
    "\n",
    "# Set the path to save/load the model\n",
    "gen_path = \"02_ganmodel_gen.pth\"\n",
    "discr_path = \"02_ganmodel_dis.pth\"\n",
    "\n",
    "# Check if the model file exists\n",
    "if os.path.exists(gen_path):\n",
    "    print(\"Loading existing model...\")\n",
    "    generator.load_state_dict(torch.load(gen_path))\n",
    "    discriminator.load_state_dict(torch.load(discr_path))\n",
    "    generator.eval()  # Set model to evaluation mode if only inference is required\n",
    "    discriminator.eval() \n",
    "else:\n",
    "    # Trainen van het GAN model\n",
    "    num_epochs = 10\n",
    "    for epoch in range(num_epochs):\n",
    "        for n, (real_images, _) in enumerate(train_loader):\n",
    "            # Trainen van de Discriminator met echte afbeeldingen\n",
    "            real_images = real_images.view(real_images.size(0), -1).to(device)  # Flatten de afbeeldingen\n",
    "            real_labels = real_data_target(real_images.size(0))\n",
    "            \n",
    "            optimizer_D.zero_grad()\n",
    "            outputs = discriminator(real_images)\n",
    "            d_loss_real = criterion(outputs, real_labels)\n",
    "            d_loss_real.backward()\n",
    "            \n",
    "            # Trainen van de Discriminator met gegenereerde (neppe) afbeeldingen\n",
    "            noise = torch.randn(real_images.size(0), latent_dim).to(device)\n",
    "            fake_images = generator(noise)\n",
    "            fake_labels = fake_data_target(real_images.size(0))\n",
    "             \n",
    "            outputs = discriminator(fake_images.detach())\n",
    "            d_loss_fake = criterion(outputs, fake_labels)\n",
    "            d_loss_fake.backward()\n",
    "            optimizer_D.step()\n",
    "    \n",
    "            # Totaal verlies voor de discriminator\n",
    "            d_loss = d_loss_real + d_loss_fake\n",
    "            \n",
    "            # Trainen van de Generator\n",
    "            optimizer_G.zero_grad()\n",
    "            outputs = discriminator(fake_images)      # Opnieuw voorspellen na trainen van discriminator!\n",
    "            g_loss = criterion(outputs, real_labels)  # Probeer de discriminator voor de gek te houden\n",
    "            g_loss.backward()\n",
    "            optimizer_G.step()\n",
    "    \n",
    "        # Print verlies na elke epoch\n",
    "        print(f\"Epoch [{epoch+1}/{num_epochs}], d_loss: {d_loss.item():.4f}, g_loss: {g_loss.item():.4f}\")\n",
    "        \n",
    "    # Save the model after training\n",
    "    torch.save(generator.state_dict(), gen_path)\n",
    "    torch.save(discriminator.state_dict(), discr_path)\n",
    "    print(f\"Model saved to {gen_path}\")\n",
    "    \n",
    "print(\"Training voltooid.\")\n"
   ]
  },
  {
   "cell_type": "markdown",
   "id": "a6bcff63-ec4a-46cb-a2c9-b559bbe75a04",
   "metadata": {},
   "source": [
    "## Visualiseren van de resultaten\n",
    "\n",
    "Deze cel definieert een functie om enkele gegenereerde afbeeldingen van de getrainde generator te visualiseren. Het genereert willekeurige ruis en laat de generator nieuwe afbeeldingen maken, die vervolgens worden weergegeven met behulp van Matplotlib."
   ]
  },
  {
   "cell_type": "code",
   "execution_count": 63,
   "id": "bd2e57ab-d145-4323-b05f-60ccedbb39b3",
   "metadata": {},
   "outputs": [
    {
     "data": {
      "image/png": "[encoded data removed]",
      "text/plain": [
       "<Figure size 1500x300 with 5 Axes>"
      ]
     },
     "metadata": {},
     "output_type": "display_data"
    }
   ],
   "source": [
    "# Functie om gegenereerde afbeeldingen te visualiseren\n",
    "def show_generated_images(generator, latent_dim, num_images=5):\n",
    "    generator.eval()\n",
    "    noise = torch.randn(num_images, latent_dim).to(device)\n",
    "    with torch.no_grad():\n",
    "        generated_images = generator(noise).cpu().view(num_images, 28, 28)\n",
    "    \n",
    "    fig, axes = plt.subplots(1, num_images, figsize=(15, 3))\n",
    "    for i in range(num_images):\n",
    "        axes[i].imshow(generated_images[i], cmap='gray')\n",
    "        axes[i].axis('off')\n",
    "    plt.show()\n",
    "\n",
    "# Visualiseer enkele gegenereerde afbeeldingen na training\n",
    "show_generated_images(generator, latent_dim)"
   ]
  },
  {
   "cell_type": "code",
   "execution_count": null,
   "id": "a676ed18-7a51-4ddf-affb-ad58f364491c",
   "metadata": {},
   "outputs": [],
   "source": []
  }
 ],
 "metadata": {
  "kernelspec": {
   "display_name": "Python 3 (ipykernel)",
   "language": "python",
   "name": "python3"
  },
  "language_info": {
   "codemirror_mode": {
    "name": "ipython",
    "version": 3
   },
   "file_extension": ".py",
   "mimetype": "text/x-python",
   "name": "python",
   "nbconvert_exporter": "python",
   "pygments_lexer": "ipython3",
   "version": "3.10.13"
  }
 },
 "nbformat": 4,
 "nbformat_minor": 5
}
