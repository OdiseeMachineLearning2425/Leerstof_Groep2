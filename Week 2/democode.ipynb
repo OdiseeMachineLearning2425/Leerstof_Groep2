{
 "cells": [
  {
   "cell_type": "markdown",
   "metadata": {
    "id": "zwBCE43Cv3PH"
   },
   "source": [
    "# Gestructureerde data\n",
    "\n",
    "In deze notebook gaan we het klassieke Titanic classificatieprobleem oplossen.\n",
    "In het eerste deel gaan we dit met pytorch doen, in het tweede deel met keras en tensorflow.\n",
    "\n",
    "Hierbij worden de volgende stappen uitgevoerd:\n",
    "- Data inladen\n",
    "- Data Modelling\n",
    "- Model evaluation\n",
    "\n",
    "De dataset die we hierbij gebruiken kan als volgt gedownload worden:"
   ]
  },
  {
   "cell_type": "code",
   "execution_count": null,
   "metadata": {},
   "outputs": [],
   "source": [
    "# Importing the necessary libraries\n",
    "import pandas as pd\n",
    "import numpy as np\n",
    "import matplotlib.pyplot as plt\n",
    "from sklearn.model_selection import train_test_split\n",
    "from sklearn.preprocessing import StandardScaler, LabelEncoder\n",
    "from sklearn.metrics import confusion_matrix, ConfusionMatrixDisplay\n",
    "\n",
    "# Define URL to load the Titanic dataset\n",
    "url = \"https://storage.googleapis.com/tf-datasets/titanic/train.csv\"\n",
    "\n",
    "# Load the dataset into a Pandas DataFrame\n",
    "df_orig = pd.read_csv(url)\n",
    "\n",
    "# Display the first few rows of the dataset\n",
    "df_orig.head()\n"
   ]
  },
  {
   "cell_type": "markdown",
   "metadata": {},
   "source": [
    "Deze data kan dan als volgt gepreprocessed worden"
   ]
  },
  {
   "cell_type": "code",
   "execution_count": null,
   "metadata": {},
   "outputs": [],
   "source": [
    "df = df_orig.copy()\n",
    "\n",
    "# Handle missing data: Fill missing values with the median (for numerical data) or mode (for categorical data)\n",
    "age_mean = df['age'].median()\n",
    "df['age'].fillna(age_mean, inplace=True)\n",
    "df['embark_town'].fillna(\"unknown\", inplace=True)\n",
    "\n",
    "# Encode categorical variables\n",
    "df['sex'] = LabelEncoder().fit_transform(df['sex'])\n",
    "df['class'] = LabelEncoder().fit_transform(df['class'])\n",
    "df['embark_town'] = LabelEncoder().fit_transform(df['embark_town'])\n",
    "df['alone'] = LabelEncoder().fit_transform(df['alone'])\n",
    "df = pd.concat([df, pd.get_dummies(df['deck'], dtype=int)],axis=1)\n",
    "df = df.drop('deck', axis=1)\n",
    "\n",
    "# Split features and target\n",
    "X = df.drop(columns=['survived'])\n",
    "y = df['survived']\n",
    "\n",
    "# Split the dataset into training and testing sets\n",
    "X_train, X_test, y_train, y_test = train_test_split(X, y, test_size=0.2, random_state=42)\n",
    "\n",
    "# Normalize the features using StandardScaler\n",
    "scaler = StandardScaler()\n",
    "X_train = scaler.fit_transform(X_train)\n",
    "X_test = scaler.transform(X_test)"
   ]
  },
  {
   "cell_type": "markdown",
   "metadata": {},
   "source": [
    "## Modelling met pytorch"
   ]
  },
  {
   "cell_type": "code",
   "execution_count": null,
   "metadata": {},
   "outputs": [],
   "source": [
    "import torch\n",
    "import torch.nn as nn\n",
    "import torch.optim as optim\n",
    "from torch.utils.data import DataLoader, TensorDataset\n",
    "\n",
    "device = torch.device('cpu')\n"
   ]
  },
  {
   "cell_type": "markdown",
   "metadata": {},
   "source": [
    "Hieronder staat de code om een visuele weergave van het model te bekomen"
   ]
  },
  {
   "cell_type": "code",
   "execution_count": null,
   "metadata": {},
   "outputs": [],
   "source": [
    "import torch\n",
    "from torchviz import make_dot"
   ]
  },
  {
   "cell_type": "code",
   "execution_count": null,
   "metadata": {},
   "outputs": [],
   "source": [
    "from torchsummary import summary\n"
   ]
  },
  {
   "cell_type": "markdown",
   "metadata": {},
   "source": [
    "## Tensorflow implementation"
   ]
  },
  {
   "cell_type": "code",
   "execution_count": null,
   "metadata": {},
   "outputs": [],
   "source": [
    "import tensorflow as tf\n",
    "from keras import layers, models, callbacks"
   ]
  },
  {
   "cell_type": "code",
   "execution_count": null,
   "metadata": {},
   "outputs": [],
   "source": [
    "# teken de graaf van dit preprocessing model"
   ]
  },
  {
   "cell_type": "code",
   "execution_count": null,
   "metadata": {},
   "outputs": [],
   "source": [
    "# print de samenvatting van dit preprocessing model"
   ]
  },
  {
   "cell_type": "markdown",
   "metadata": {},
   "source": [
    "## Tensorflow met preprocessing in het netwerk\n",
    "\n",
    "Hierboven werd het preprocessing gedeelte nog gedaan met sci-kit learn.\n",
    "Het kan beter zijn voor productie om de (sommige) preprocessing mee te betrekken in het neuraal netwerk.\n",
    "Dit om te voorkomen dat je alle preprocessingstappen moet beschikbaar maken voor developers die het op dezelfde manier moeten implementeren.\n",
    "Hierdoor kan je soms data vrijgeven (zoals gemiddelden voor scalers, woordenboeken voor categorieke data, ...) wat niet gewenst is."
   ]
  },
  {
   "cell_type": "code",
   "execution_count": null,
   "metadata": {},
   "outputs": [],
   "source": [
    "import pandas as pd\n",
    "import tensorflow as tf\n",
    "from tensorflow.keras.layers import Normalization, StringLookup, CategoryEncoding, Dense, Concatenate\n",
    "from tensorflow.keras.models import Model\n",
    "from tensorflow.keras import Input\n",
    "\n",
    "# Split into features and labels\n",
    "target = \"survived\"\n",
    "features = df_orig.copy()\n",
    "labels = features.pop(target)\n",
    "\n",
    "# Identify categorical and numerical columns\n",
    "categorical_columns = ['sex', 'class', 'deck', 'embark_town', 'alone']\n",
    "numerical_columns = ['age', 'n_siblings_spouses', 'parch', 'fare']"
   ]
  },
  {
   "cell_type": "code",
   "execution_count": null,
   "metadata": {},
   "outputs": [],
   "source": [
    "# teken de graaf van dit preprocessing model"
   ]
  },
  {
   "cell_type": "code",
   "execution_count": null,
   "metadata": {},
   "outputs": [],
   "source": [
    "# zelfde maar met minder lagen"
   ]
  },
  {
   "cell_type": "code",
   "execution_count": null,
   "metadata": {},
   "outputs": [],
   "source": [
    "# teken de graaf van dit preprocessing model"
   ]
  }
 ],
 "metadata": {
  "colab": {
   "collapsed_sections": [],
   "name": "pandas_dataframe.ipynb",
   "toc_visible": true
  },
  "kernelspec": {
   "display_name": "Python 3 (ipykernel)",
   "language": "python",
   "name": "python3"
  },
  "language_info": {
   "codemirror_mode": {
    "name": "ipython",
    "version": 3
   },
   "file_extension": ".py",
   "mimetype": "text/x-python",
   "name": "python",
   "nbconvert_exporter": "python",
   "pygments_lexer": "ipython3",
   "version": "3.10.13"
  }
 },
 "nbformat": 4,
 "nbformat_minor": 4
}
