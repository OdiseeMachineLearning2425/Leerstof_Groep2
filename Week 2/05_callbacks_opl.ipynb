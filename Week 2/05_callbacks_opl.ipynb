{
 "cells": [
  {
   "cell_type": "markdown",
   "id": "58c74e71-f410-4d14-9991-013701c8463b",
   "metadata": {},
   "source": [
    "# Callbacks\n",
    "\n",
    "Er zijn heel wat extra functionaliteiten die je kan toevoegen aan het trainingsproces.\n",
    "De meestgebruikte zijn: \n",
    "* EarlyStopping\n",
    "* ModelCheckpoint\n",
    "* Tensorboard\n",
    "* LearningRate schedulers\n",
    "\n",
    "Ook kan je custom callback functions maken om je eigen functionaliteiten toe te voegen.\n",
    "\n",
    "In de klassieke pytorch manier schrijf je je eigen trainings-lus en is het dus eenvoudig om alle gewenste code toe te voegen. \n",
    "De efficientere manier om modellen te bouwen via Keras abstraheerd echter de trainingslus en train je door middel van de fit()-methode.\n",
    "Deze manier maakt het echter onmogelijk om extra functionaliteiten toe te voegen. \n",
    "\n",
    "Hieronder vind je een voorbeeld van hoe je callbacks kan toevoegen aan een model gebouwd met keras op een pytorch backend"
   ]
  },
  {
   "cell_type": "code",
   "execution_count": 2,
   "id": "92cc4cee-f1c2-4d70-8ef1-1805be6ee875",
   "metadata": {},
   "outputs": [
    {
     "name": "stdout",
     "output_type": "stream",
     "text": [
      "Epoch 1/100\n",
      "\u001b[1m3/3\u001b[0m \u001b[32m━━━━━━━━━━━━━━━━━━━━\u001b[0m\u001b[37m\u001b[0m \u001b[1m1s\u001b[0m 51ms/step - loss: 0.1594 - val_loss: 0.2645\n",
      "Epoch 2/100\n",
      "\u001b[1m3/3\u001b[0m \u001b[32m━━━━━━━━━━━━━━━━━━━━\u001b[0m\u001b[37m\u001b[0m \u001b[1m0s\u001b[0m 13ms/step - loss: 0.1669 - val_loss: 0.2689\n",
      "Epoch 3/100\n",
      "\u001b[1m3/3\u001b[0m \u001b[32m━━━━━━━━━━━━━━━━━━━━\u001b[0m\u001b[37m\u001b[0m \u001b[1m0s\u001b[0m 14ms/step - loss: 0.1588 - val_loss: 0.2721\n",
      "Epoch 4/100\n",
      "\u001b[1m3/3\u001b[0m \u001b[32m━━━━━━━━━━━━━━━━━━━━\u001b[0m\u001b[37m\u001b[0m \u001b[1m0s\u001b[0m 11ms/step - loss: 0.1629 - val_loss: 0.2744\n",
      "Epoch 5/100\n",
      "\u001b[1m3/3\u001b[0m \u001b[32m━━━━━━━━━━━━━━━━━━━━\u001b[0m\u001b[37m\u001b[0m \u001b[1m0s\u001b[0m 13ms/step - loss: 0.1545 - val_loss: 0.2758\n",
      "Epoch 6/100\n",
      "\u001b[1m3/3\u001b[0m \u001b[32m━━━━━━━━━━━━━━━━━━━━\u001b[0m\u001b[37m\u001b[0m \u001b[1m0s\u001b[0m 12ms/step - loss: 0.1481 - val_loss: 0.2734\n"
     ]
    },
    {
     "data": {
      "text/plain": [
       "<keras.src.callbacks.history.History at 0x7f70b43c4760>"
      ]
     },
     "execution_count": 2,
     "metadata": {},
     "output_type": "execute_result"
    }
   ],
   "source": [
    "import numpy as np\n",
    "from keras.models import Sequential\n",
    "from keras.layers import Dense\n",
    "from keras.callbacks import EarlyStopping\n",
    "\n",
    "import os\n",
    "os.environ[\"KERAS_BACKEND\"] = \"torch\"\n",
    "\n",
    "# Maak een eenvoudig neuraal netwerk\n",
    "model = Sequential([\n",
    "    Dense(10, activation='relu', input_shape=(10,)),\n",
    "    Dense(1)\n",
    "])\n",
    "\n",
    "# Compile het model\n",
    "model.compile(optimizer='adam', loss='mean_squared_error')\n",
    "\n",
    "# Genereer dummy data\n",
    "x_train = np.random.rand(100, 10)\n",
    "y_train = np.random.rand(100, 1)\n",
    "\n",
    "# Maak een EarlyStopping callback\n",
    "early_stop = EarlyStopping(monitor='val_loss', patience=5)\n",
    "\n",
    "# Train het model met de callback\n",
    "model.fit(x_train, y_train, epochs=100, validation_split=0.2, callbacks=[early_stop])\n"
   ]
  },
  {
   "cell_type": "code",
   "execution_count": null,
   "id": "9dbea5ff-eb79-4934-82f8-ab8ef4230378",
   "metadata": {},
   "outputs": [],
   "source": []
  }
 ],
 "metadata": {
  "kernelspec": {
   "display_name": "Python 3 (ipykernel)",
   "language": "python",
   "name": "python3"
  },
  "language_info": {
   "codemirror_mode": {
    "name": "ipython",
    "version": 3
   },
   "file_extension": ".py",
   "mimetype": "text/x-python",
   "name": "python",
   "nbconvert_exporter": "python",
   "pygments_lexer": "ipython3",
   "version": "3.10.13"
  }
 },
 "nbformat": 4,
 "nbformat_minor": 5
}
