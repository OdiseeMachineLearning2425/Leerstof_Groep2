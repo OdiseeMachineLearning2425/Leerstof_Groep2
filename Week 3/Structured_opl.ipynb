{
 "cells": [
  {
   "cell_type": "markdown",
   "id": "429d571c",
   "metadata": {},
   "source": [
    "# Neuraal netwerk oefening: Nintendo games\n",
    "\n",
    "In deze opgave gaan we een aantal eenvoudige neurale netwerken maken om de basisfunctionaliteit in te oefenen van Torch en Keras. Hierbij focussen we vooral op de processing stappen, het opstellen van de netwerkarchitectuur en de trainingsstap.\n",
    "Het is hierbij niet noodzakelijk om op zoek te gaan naar de beste architectuur.\n",
    "\n",
    "**Dien de opgave in door het te pushen naar de main branch op github en vergeet niet op de vragen te beantwoorden. Laat je output staan om eenvoudiger je resultaten te kunnen verifieren. Vergeet ook de vragen niet te beantwoorden**\n",
    "\n",
    "## Downloaden en inladen data\n",
    "\n",
    "Schrijf in onderstaande cell alle uit te voeren imports die nodig zijn doorheen deze notebook."
   ]
  },
  {
   "cell_type": "code",
   "execution_count": 82,
   "id": "779c1a4c",
   "metadata": {},
   "outputs": [],
   "source": [
    "# Schrijf alle imports in deze blok\n",
    "import opendatasets as od\n",
    "import pandas as pd\n",
    "import matplotlib.pyplot as plt\n",
    "import torch"
   ]
  },
  {
   "cell_type": "markdown",
   "id": "f63aac1d",
   "metadata": {},
   "source": [
    "In deze opgave maken we gebruik van een dataset over Nintendo games.\n",
    "We gaan deze dataset gebruiken om de gebrukersscore te voorspellen die een bepaald spel gaat behalen.\n",
    "\n",
    "Maak gebruik van de tensorflow get_file om de volgende file te downloaden:\n",
    "* https://www.kaggle.com/datasets/joebeachcapital/nintendo-games\n",
    "\n",
    "Dit is een dataset van kaggle dus gebruik de opendatasets library zoals gezien in data science"
   ]
  },
  {
   "cell_type": "code",
   "execution_count": 83,
   "id": "b4eacc19",
   "metadata": {},
   "outputs": [
    {
     "name": "stdout",
     "output_type": "stream",
     "text": [
      "Skipping, found downloaded files in \"./nintendo-games\" (use force=True to force download)\n"
     ]
    }
   ],
   "source": [
    "# downloaden datasets\n",
    "od.download('https://www.kaggle.com/datasets/joebeachcapital/nintendo-games')"
   ]
  },
  {
   "cell_type": "markdown",
   "id": "b0a4ddb8",
   "metadata": {},
   "source": [
    "Lees deze datasets in (met behulp van panda) en als dataframe.\n",
    "Print de eerste 5 rijen uit.\n",
    "\n",
    "**Welke kolommen zijn in deze dataset de features en welke de targets/labels? Welke kolommen zou je niet gebruiken en waarom?**\n",
    "Maak lijsten aan voor de namen van de feature-kolommen en label kolom."
   ]
  },
  {
   "cell_type": "markdown",
   "id": "d7e2249a",
   "metadata": {},
   "source": [
    "Antwoord: ..."
   ]
  },
  {
   "cell_type": "code",
   "execution_count": 84,
   "id": "95bd63b0",
   "metadata": {},
   "outputs": [
    {
     "data": {
      "text/html": [
       "<div>\n",
       "<style scoped>\n",
       "    .dataframe tbody tr th:only-of-type {\n",
       "        vertical-align: middle;\n",
       "    }\n",
       "\n",
       "    .dataframe tbody tr th {\n",
       "        vertical-align: top;\n",
       "    }\n",
       "\n",
       "    .dataframe thead th {\n",
       "        text-align: right;\n",
       "    }\n",
       "</style>\n",
       "<table border=\"1\" class=\"dataframe\">\n",
       "  <thead>\n",
       "    <tr style=\"text-align: right;\">\n",
       "      <th></th>\n",
       "      <th>meta_score</th>\n",
       "      <th>title</th>\n",
       "      <th>platform</th>\n",
       "      <th>date</th>\n",
       "      <th>user_score</th>\n",
       "      <th>link</th>\n",
       "      <th>esrb_rating</th>\n",
       "      <th>developers</th>\n",
       "      <th>genres</th>\n",
       "    </tr>\n",
       "  </thead>\n",
       "  <tbody>\n",
       "    <tr>\n",
       "      <th>0</th>\n",
       "      <td>NaN</td>\n",
       "      <td>Super Mario RPG</td>\n",
       "      <td>Switch</td>\n",
       "      <td>Nov 17, 2023</td>\n",
       "      <td>NaN</td>\n",
       "      <td>/game/switch/super-mario-rpg</td>\n",
       "      <td>E</td>\n",
       "      <td>['Nintendo']</td>\n",
       "      <td>['Role-Playing', 'Japanese-Style']</td>\n",
       "    </tr>\n",
       "    <tr>\n",
       "      <th>1</th>\n",
       "      <td>NaN</td>\n",
       "      <td>WarioWare: Move It!</td>\n",
       "      <td>Switch</td>\n",
       "      <td>Nov 3, 2023</td>\n",
       "      <td>NaN</td>\n",
       "      <td>/game/switch/warioware-move-it!</td>\n",
       "      <td>RP</td>\n",
       "      <td>['Intelligent Systems']</td>\n",
       "      <td>['Miscellaneous', 'Party / Minigame']</td>\n",
       "    </tr>\n",
       "    <tr>\n",
       "      <th>2</th>\n",
       "      <td>NaN</td>\n",
       "      <td>Super Mario Bros. Wonder</td>\n",
       "      <td>Switch</td>\n",
       "      <td>Oct 20, 2023</td>\n",
       "      <td>NaN</td>\n",
       "      <td>/game/switch/super-mario-bros-wonder</td>\n",
       "      <td>E</td>\n",
       "      <td>['Nintendo']</td>\n",
       "      <td>['Action', 'Platformer', '2D']</td>\n",
       "    </tr>\n",
       "    <tr>\n",
       "      <th>3</th>\n",
       "      <td>NaN</td>\n",
       "      <td>Detective Pikachu Returns</td>\n",
       "      <td>Switch</td>\n",
       "      <td>Oct 6, 2023</td>\n",
       "      <td>NaN</td>\n",
       "      <td>/game/switch/detective-pikachu-returns</td>\n",
       "      <td>NaN</td>\n",
       "      <td>['Creatures Inc.']</td>\n",
       "      <td>['Adventure', '3D', 'Third-Person']</td>\n",
       "    </tr>\n",
       "    <tr>\n",
       "      <th>4</th>\n",
       "      <td>NaN</td>\n",
       "      <td>Fae Farm</td>\n",
       "      <td>Switch</td>\n",
       "      <td>Sep 8, 2023</td>\n",
       "      <td>NaN</td>\n",
       "      <td>/game/switch/fae-farm</td>\n",
       "      <td>E10+</td>\n",
       "      <td>['Phoenix Labs']</td>\n",
       "      <td>['Simulation', 'Virtual', 'Virtual Life']</td>\n",
       "    </tr>\n",
       "  </tbody>\n",
       "</table>\n",
       "</div>"
      ],
      "text/plain": [
       "   meta_score                      title platform          date  user_score  \\\n",
       "0         NaN            Super Mario RPG   Switch  Nov 17, 2023         NaN   \n",
       "1         NaN        WarioWare: Move It!   Switch   Nov 3, 2023         NaN   \n",
       "2         NaN   Super Mario Bros. Wonder   Switch  Oct 20, 2023         NaN   \n",
       "3         NaN  Detective Pikachu Returns   Switch   Oct 6, 2023         NaN   \n",
       "4         NaN                   Fae Farm   Switch   Sep 8, 2023         NaN   \n",
       "\n",
       "                                     link esrb_rating  \\\n",
       "0            /game/switch/super-mario-rpg           E   \n",
       "1         /game/switch/warioware-move-it!          RP   \n",
       "2    /game/switch/super-mario-bros-wonder           E   \n",
       "3  /game/switch/detective-pikachu-returns         NaN   \n",
       "4                   /game/switch/fae-farm        E10+   \n",
       "\n",
       "                developers                                     genres  \n",
       "0             ['Nintendo']         ['Role-Playing', 'Japanese-Style']  \n",
       "1  ['Intelligent Systems']      ['Miscellaneous', 'Party / Minigame']  \n",
       "2             ['Nintendo']             ['Action', 'Platformer', '2D']  \n",
       "3       ['Creatures Inc.']        ['Adventure', '3D', 'Third-Person']  \n",
       "4         ['Phoenix Labs']  ['Simulation', 'Virtual', 'Virtual Life']  "
      ]
     },
     "metadata": {},
     "output_type": "display_data"
    }
   ],
   "source": [
    "df = pd.read_csv(\"./nintendo-games/NintendoGames.csv\")\n",
    "display(df.head())\n",
    "\n",
    "label = ['user_score']\n",
    "features = ['platform', 'meta_score', 'esrb_rating', 'developers', 'genres']"
   ]
  },
  {
   "cell_type": "markdown",
   "id": "fd85b843",
   "metadata": {},
   "source": [
    "## Exploratory Data Analysis\n",
    "\n",
    "Bereken voor de dataset de volgende statistieken met behulp van pandas:\n",
    "* Hoeveel platformen zijn er aanwezig in de dataset\n",
    "* Hoeveel games hebben geen user-score? Drop deze rijen ook.\n",
    "* Maak een figuur om te tonen hoeveel games er ontwikkeld zijn voor elk platform.\n",
    "* Hoeveel null waarden zijn er per kolom? Vul de numerieke kolommen aan met 0 en de categorieke kolommen met 'unknown'.\n",
    "* Is de genres en developer kolom een string of een lijst? Zijn ze beide hetzelfde type? Hoe heb je dit gecontroleerd? Pas de kolommen met de apply-functie aan zodat beide kolommen een tekstveld zijn gesplitst door het ',' symbool.\n",
    "* Hoeveel unieke developers zijn er die nintendo games maken? Wat zijn de 5 developers die aan het meeste games gewerkt hebben? Maak hiervoor een figuur.\n",
    "\n",
    "\n",
    "**Antwoord vraag 5:**"
   ]
  },
  {
   "cell_type": "code",
   "execution_count": 4,
   "id": "e1e84193",
   "metadata": {
    "scrolled": true
   },
   "outputs": [
    {
     "data": {
      "text/plain": [
       "10"
      ]
     },
     "execution_count": 4,
     "metadata": {},
     "output_type": "execute_result"
    }
   ],
   "source": [
    "# Vraag 1\n",
    "df.platform.nunique()"
   ]
  },
  {
   "cell_type": "code",
   "execution_count": 5,
   "id": "d7dd9b9c",
   "metadata": {},
   "outputs": [
    {
     "name": "stdout",
     "output_type": "stream",
     "text": [
      "238\n",
      "1094\n",
      "856\n"
     ]
    }
   ],
   "source": [
    "# Vraag 2\n",
    "print(df.user_score.isna().sum())\n",
    "print(len(df))\n",
    "df = df[~df.user_score.isna()]\n",
    "print(len(df))"
   ]
  },
  {
   "cell_type": "code",
   "execution_count": 6,
   "id": "0bcb18c7",
   "metadata": {},
   "outputs": [
    {
     "data": {
      "text/plain": [
       "<Axes: xlabel='platform'>"
      ]
     },
     "execution_count": 6,
     "metadata": {},
     "output_type": "execute_result"
    },
    {
     "data": {
      "image/png": "[encoded data removed]",
      "text/plain": [
       "<Figure size 640x480 with 1 Axes>"
      ]
     },
     "metadata": {},
     "output_type": "display_data"
    }
   ],
   "source": [
    "# Vraag 3\n",
    "df.platform.value_counts().plot.bar()"
   ]
  },
  {
   "cell_type": "code",
   "execution_count": 7,
   "id": "2c6cc844",
   "metadata": {},
   "outputs": [
    {
     "data": {
      "text/plain": [
       "meta_score     166\n",
       "title            0\n",
       "platform         0\n",
       "date             0\n",
       "user_score       0\n",
       "link             0\n",
       "esrb_rating     63\n",
       "developers       0\n",
       "genres           0\n",
       "dtype: int64"
      ]
     },
     "metadata": {},
     "output_type": "display_data"
    },
    {
     "name": "stderr",
     "output_type": "stream",
     "text": [
      "/tmp/ipykernel_31/3919038669.py:3: FutureWarning: A value is trying to be set on a copy of a DataFrame or Series through chained assignment using an inplace method.\n",
      "The behavior will change in pandas 3.0. This inplace method will never work because the intermediate object on which we are setting values always behaves as a copy.\n",
      "\n",
      "For example, when doing 'df[col].method(value, inplace=True)', try using 'df.method({col: value}, inplace=True)' or df[col] = df[col].method(value) instead, to perform the operation inplace on the original object.\n",
      "\n",
      "\n",
      "  df.meta_score.fillna(0, inplace=True)\n",
      "/tmp/ipykernel_31/3919038669.py:4: FutureWarning: A value is trying to be set on a copy of a DataFrame or Series through chained assignment using an inplace method.\n",
      "The behavior will change in pandas 3.0. This inplace method will never work because the intermediate object on which we are setting values always behaves as a copy.\n",
      "\n",
      "For example, when doing 'df[col].method(value, inplace=True)', try using 'df.method({col: value}, inplace=True)' or df[col] = df[col].method(value) instead, to perform the operation inplace on the original object.\n",
      "\n",
      "\n",
      "  df.esrb_rating.fillna('unknown', inplace=True)\n"
     ]
    },
    {
     "data": {
      "text/plain": [
       "meta_score     0\n",
       "title          0\n",
       "platform       0\n",
       "date           0\n",
       "user_score     0\n",
       "link           0\n",
       "esrb_rating    0\n",
       "developers     0\n",
       "genres         0\n",
       "dtype: int64"
      ]
     },
     "metadata": {},
     "output_type": "display_data"
    }
   ],
   "source": [
    "# Vraag 4\n",
    "display(df.isna().sum())\n",
    "df.meta_score.fillna(0, inplace=True)\n",
    "df.esrb_rating.fillna('unknown', inplace=True)\n",
    "\n",
    "display(df.isna().sum())"
   ]
  },
  {
   "cell_type": "code",
   "execution_count": 8,
   "id": "2994a6e6",
   "metadata": {},
   "outputs": [],
   "source": [
    "# Vraag 5\n",
    "df.developers = df.developers.apply(lambda x: x[1:-1].replace(\"'\", '').replace(\"  \", \"\"))\n",
    "df.genres = df.genres.apply(lambda x: x[1:-1].replace(\"'\", '').replace(\", \", \",\"))"
   ]
  },
  {
   "cell_type": "code",
   "execution_count": 9,
   "id": "00ebf413",
   "metadata": {},
   "outputs": [
    {
     "data": {
      "text/plain": [
       "developers\n",
       "Nintendo               342\n",
       "Game Freak              46\n",
       "Intelligent Systems     45\n",
       "HAL Labs                42\n",
       "Level 5                 30\n",
       "                      ... \n",
       "Tose Software            1\n",
       "Konami                   1\n",
       "Amusement Vision         1\n",
       "Silicon Knights          1\n",
       "ParityBit                1\n",
       "Name: count, Length: 151, dtype: int64"
      ]
     },
     "execution_count": 9,
     "metadata": {},
     "output_type": "execute_result"
    }
   ],
   "source": [
    "# Vraag 6\n",
    "df.developers.str.split(',').explode().value_counts()\n"
   ]
  },
  {
   "cell_type": "markdown",
   "id": "cad9697e",
   "metadata": {},
   "source": [
    "## Preprocessing"
   ]
  },
  {
   "cell_type": "markdown",
   "id": "e07f4852",
   "metadata": {},
   "source": [
    "Voer nu de volgende stappen uit om de beschikbare data zo bruikbaar mogeljk te maken. Voor deze sectie vind je [hier](https://www.tensorflow.org/tutorials/load_data/pandas_dataframe) heel wat extra informatie om dit zo duidelijk mogelijk te maken.\n",
    "* Splits de dataset in training en testdata. Gebruik 10% van de data als testdata. Tip: bekijk de sample functie in pandas. Zorg ervoor dat rijen met ontbrekende waarden niet gebruikt worden.\n",
    "* Maak een trainings- en testdataset aan gebruik makende van de Dataset klasse van PyTorch. Zorg er hierbij voor dat de volgende features gebruikt worden: platform, meta_score, esrb_rating, developers, genres. Natuurlijk moet het target ook meegegeven worden bij het aanmaken van de dataset. Zorg ervoor dat de nodige preprocessing stappen uitgevoerd worden:\n",
    "    * Maak nu de nodige preprocessing stappen aan voor de types data:\n",
    "        * numeriek -> normalisatie\n",
    "        * categoriek -> one-hot encoding\n",
    "        * tekst -> multi-hot encoding\n",
    "* Maak daarna Dataloaders aan en zorg er hierbij voor dat alle elementen geshuffeld worden, maak daarna batches van 4 elementen.\n",
    "\n",
    "**Vraag: Je hebt hiervoor het aantal unieke developers berekend. Kan je uit de figuur afleiden of dit aantal klopt? Hoe doe je dit? Verwijs hierbij naar de gemaakte figuur.**"
   ]
  },
  {
   "cell_type": "markdown",
   "id": "69fd781a",
   "metadata": {},
   "source": [
    "**Antwoord:**"
   ]
  },
  {
   "cell_type": "code",
   "execution_count": 135,
   "id": "b5fd064c-66b6-495d-9063-dc246eddd9ef",
   "metadata": {},
   "outputs": [
    {
     "name": "stdout",
     "output_type": "stream",
     "text": [
      "torch.Size([4, 131])\n"
     ]
    }
   ],
   "source": [
    "import torch\n",
    "import pandas as pd\n",
    "from torch.utils.data import Dataset, DataLoader\n",
    "from sklearn.preprocessing import OneHotEncoder, StandardScaler\n",
    "\n",
    "df = df.dropna()\n",
    "df_train=df.sample(frac=0.8,random_state=200)\n",
    "df_test=df.drop(df_train.index)\n",
    "\n",
    "class GameDataset(Dataset):\n",
    "    def __init__(self, dataframe, numerical_features, categorical_features, array_like_features, target, train_dataset=None):\n",
    "        self.dataframe = dataframe\n",
    "        self.numerical_features = numerical_features\n",
    "        self.categorical_features = categorical_features\n",
    "        self.array_like_features = array_like_features\n",
    "        self.target = target\n",
    "        \n",
    "        # Normalize numerical features\n",
    "        if train_dataset is None:\n",
    "            self.scaler = StandardScaler()\n",
    "            self.numeric_values = self.scaler.fit_transform(self.dataframe[numerical_features])\n",
    "        else:\n",
    "            self.scaler = train_dataset.scaler\n",
    "            self.numeric_values = self.scaler.transform(self.dataframe[numerical_features])\n",
    "       \n",
    "        # OneHotEncode categorical features\n",
    "        if train_dataset is None:\n",
    "            self.encoder = OneHotEncoder(handle_unknown='ignore')\n",
    "            self.onehot_values = self.encoder.fit_transform(self.dataframe[categorical_features])\n",
    "        else:\n",
    "            self.encoder = train_dataset.encoder\n",
    "            self.onehot_values = self.encoder.transform(self.dataframe[categorical_features])\n",
    "\n",
    "        # Create unique list of array-like values (e.g., all possible genres/developers)\n",
    "        if train_dataset is None:\n",
    "            self.unique_developers = list(set([d for sublist in dataframe['developers'] for d in sublist]))\n",
    "            self.unique_genres = list(set([g for sublist in dataframe['genres'] for g in sublist]))\n",
    "        else:\n",
    "            self.unique_developers = train_dataset.unique_developers\n",
    "            self.unique_genres = train_dataset.unique_genres\n",
    "        \n",
    "    def multi_hot_encode(self, array, unique_list):\n",
    "        \"\"\"Multi-hot encode an array-like feature.\"\"\"\n",
    "        encoding = [0] * len(unique_list)\n",
    "        for val in array:\n",
    "            if val in unique_list:\n",
    "                encoding[unique_list.index(val)] = 1\n",
    "        return encoding\n",
    "\n",
    "    def __len__(self):\n",
    "        return len(self.dataframe)\n",
    "\n",
    "    def __getitem__(self, idx):\n",
    "        # Get normalized numerical features\n",
    "        tmp = self.numeric_values[idx].astype(float)\n",
    "        numerical = torch.tensor(tmp, dtype=torch.float32)\n",
    "\n",
    "        # Get one-hot encoded categorical features\n",
    "        tmp = self.onehot_values.getrow(idx).toarray()\n",
    "        categorical = torch.tensor(tmp, dtype=torch.float32).squeeze()\n",
    "\n",
    "        # Get multi-hot encoded array-like features\n",
    "        developers = self.multi_hot_encode(self.dataframe.iloc[idx]['developers'], self.unique_developers)\n",
    "        developers = torch.tensor(developers, dtype=torch.float32)\n",
    "        genres = self.multi_hot_encode(self.dataframe.iloc[idx]['genres'], self.unique_genres)\n",
    "        genres = torch.tensor(genres, dtype=torch.float32)\n",
    "\n",
    "        # Concatenate all features together\n",
    "        features = torch.cat([numerical, categorical, developers, genres])\n",
    "\n",
    "        # Get target\n",
    "        target = torch.tensor(self.dataframe.iloc[idx][self.target], dtype=torch.float32)\n",
    "        return features, target\n",
    "\n",
    "# Define feature lists\n",
    "numerical_features = ['meta_score']  # Example numerical features\n",
    "categorical_features = ['platform', 'esrb_rating']  # Example categorical features\n",
    "array_like_features = ['developers', 'genres']  # Example array-like features\n",
    "target = 'user_score'  # Replace with the actual target column\n",
    "\n",
    "# Create dataset objects\n",
    "train_dataset = GameDataset(df_train, numerical_features, categorical_features, array_like_features, target)\n",
    "test_dataset = GameDataset(df_test, numerical_features, categorical_features, array_like_features, target, train_dataset)\n",
    "\n",
    "# Shuffle and batch the data (batch size of 4)\n",
    "train_loader = DataLoader(train_dataset, batch_size=4, shuffle=True)\n",
    "test_loader = DataLoader(test_dataset, batch_size=4, shuffle=False)\n",
    "\n",
    "for inputs, targets in train_loader:\n",
    "    print(inputs.shape)\n",
    "    break"
   ]
  },
  {
   "cell_type": "markdown",
   "id": "fbcc8df6",
   "metadata": {},
   "source": [
    "## Modelling\n",
    "\n",
    "Maak nu met behulp van **Pytorch** de volgende modellen aan, train ze en evalueer ze aan de hand van de trainingsdata:\n",
    "* Lineaire regressie\n",
    "* Neuraal netwerk bestaande uit 1 hidden laag met 3 neuronen\n",
    "* Neuraal netwerk bestaande uit 3 hidden lagen met respectievelijk 10, 5 en 5 neuronen.\n",
    "* Neuraal netwerk bestaande uit 3 hidden lagen met respectievelijk 10, 5 en 5 neuronen met dropout.\n",
    "* Neuraal netwerk bestaande uit 3 hidden lagen met respectievelijk 10, 5 en 5 neuronen met L1 regularisatie.\n",
    "* Neuraal netwerk bestaande uit 3 hidden lagen met respectievelijk 10, 5 en 5 neuronen met L2 regularisatie.\n",
    "\n",
    "Maak zoveel mogelijk gebruik van functies om repititieve zaken te verbergen.\n",
    "Maak daarnaast ook gebruik van de **plot_loss** functie om de geschiedenis van het trainen te visualiseren.\n",
    "\n",
    "**Bespreek hieronder je observaties. Welke loss functie heb je gebruikt? Waarom heb je voor deze functie gekozen? Welke hyperparameters heb je uitgeprobeerd? Welk model werkt goed, welk niet? Welk is aan het overfitten, welk aan het underfitten? Bespreek de gebruikte parameters van de verschillende lagen van het laatste model. Waarom heb je de waarde gekozen voor die parameters?\n",
    "Verwijs hierbij naar de figuren en de behaalde loss-waarden voor de testdata.**"
   ]
  },
  {
   "cell_type": "markdown",
   "id": "e75f4904",
   "metadata": {},
   "source": [
    "Antwoord ..."
   ]
  },
  {
   "cell_type": "code",
   "execution_count": 131,
   "id": "839e102e",
   "metadata": {},
   "outputs": [],
   "source": [
    "# Plot loss over epochs\n",
    "import torch\n",
    "import torch.nn as nn\n",
    "import torch.optim as optim\n",
    "\n",
    "def plot_loss(loss_history):\n",
    "    plt.plot(loss_history, label=\"Training Loss\")\n",
    "    plt.xlabel(\"Epochs\")\n",
    "    plt.ylabel(\"Loss\")\n",
    "    plt.legend()\n",
    "    plt.show()"
   ]
  },
  {
   "cell_type": "code",
   "execution_count": 132,
   "id": "1bfb41ca",
   "metadata": {},
   "outputs": [],
   "source": [
    "# Training function\n",
    "def train_model(model, train_loader, num_epochs=50, lr=0.001, lambda_l1=0.0, weight_decay=0.0):\n",
    "    criterion = nn.MSELoss()  # Example: Use MSELoss for regression\n",
    "    optimizer = optim.Adam(model.parameters(), lr=lr, weight_decay=weight_decay)\n",
    "    \n",
    "    loss_history = []\n",
    "\n",
    "    for epoch in range(num_epochs):\n",
    "        model.train()\n",
    "        running_loss = 0.0\n",
    "\n",
    "        for inputs, targets in train_loader:\n",
    "            optimizer.zero_grad()\n",
    "            \n",
    "            # Forward pass\n",
    "            outputs = model(inputs)\n",
    "            loss = criterion(outputs, targets)\n",
    "\n",
    "            # Add L1 penalty if required\n",
    "            if lambda_l1 > 0.0 and hasattr(model, 'l1_penalty'):\n",
    "                loss += model.l1_penalty(lambda_l1)\n",
    "\n",
    "            # Backward pass and optimization\n",
    "            loss.backward()\n",
    "            optimizer.step()\n",
    "\n",
    "            running_loss += loss.item()\n",
    "\n",
    "        avg_loss = running_loss / len(train_loader)\n",
    "        loss_history.append(avg_loss)\n",
    "        print(f'Epoch [{epoch+1}/{num_epochs}], Loss: {avg_loss:.4f}')\n",
    "\n",
    "    return loss_history"
   ]
  },
  {
   "cell_type": "code",
   "execution_count": 136,
   "id": "794c919e",
   "metadata": {},
   "outputs": [
    {
     "name": "stderr",
     "output_type": "stream",
     "text": [
      "/opt/conda/lib/python3.10/site-packages/torch/nn/modules/loss.py:535: UserWarning: Using a target size (torch.Size([4])) that is different to the input size (torch.Size([4, 1])). This will likely lead to incorrect results due to broadcasting. Please ensure they have the same size.\n",
      "  return F.mse_loss(input, target, reduction=self.reduction)\n",
      "/opt/conda/lib/python3.10/site-packages/torch/nn/modules/loss.py:535: UserWarning: Using a target size (torch.Size([1])) that is different to the input size (torch.Size([1, 1])). This will likely lead to incorrect results due to broadcasting. Please ensure they have the same size.\n",
      "  return F.mse_loss(input, target, reduction=self.reduction)\n"
     ]
    },
    {
     "name": "stdout",
     "output_type": "stream",
     "text": [
      "Epoch [1/50], Loss: 32.7019\n",
      "Epoch [2/50], Loss: 8.1723\n",
      "Epoch [3/50], Loss: 2.5424\n",
      "Epoch [4/50], Loss: 1.8187\n",
      "Epoch [5/50], Loss: 1.6355\n",
      "Epoch [6/50], Loss: 1.6380\n",
      "Epoch [7/50], Loss: 1.5650\n",
      "Epoch [8/50], Loss: 1.4901\n",
      "Epoch [9/50], Loss: 1.4412\n",
      "Epoch [10/50], Loss: 1.4120\n",
      "Epoch [11/50], Loss: 1.4214\n",
      "Epoch [12/50], Loss: 1.4022\n",
      "Epoch [13/50], Loss: 1.3293\n",
      "Epoch [14/50], Loss: 1.2660\n",
      "Epoch [15/50], Loss: 1.2946\n",
      "Epoch [16/50], Loss: 1.2728\n",
      "Epoch [17/50], Loss: 1.2431\n",
      "Epoch [18/50], Loss: 1.2355\n",
      "Epoch [19/50], Loss: 1.2001\n",
      "Epoch [20/50], Loss: 1.2034\n",
      "Epoch [21/50], Loss: 1.2327\n",
      "Epoch [22/50], Loss: 1.1954\n",
      "Epoch [23/50], Loss: 1.2000\n",
      "Epoch [24/50], Loss: 1.1868\n",
      "Epoch [25/50], Loss: 1.2101\n",
      "Epoch [26/50], Loss: 1.1748\n",
      "Epoch [27/50], Loss: 1.1786\n",
      "Epoch [28/50], Loss: 1.1642\n",
      "Epoch [29/50], Loss: 1.1459\n",
      "Epoch [30/50], Loss: 1.1397\n",
      "Epoch [31/50], Loss: 1.2198\n",
      "Epoch [32/50], Loss: 1.1745\n",
      "Epoch [33/50], Loss: 1.1529\n",
      "Epoch [34/50], Loss: 1.1789\n",
      "Epoch [35/50], Loss: 1.1630\n",
      "Epoch [36/50], Loss: 1.1409\n",
      "Epoch [37/50], Loss: 1.1257\n",
      "Epoch [38/50], Loss: 1.1257\n",
      "Epoch [39/50], Loss: 1.1020\n",
      "Epoch [40/50], Loss: 1.1271\n",
      "Epoch [41/50], Loss: 1.1098\n",
      "Epoch [42/50], Loss: 1.1105\n",
      "Epoch [43/50], Loss: 1.0911\n",
      "Epoch [44/50], Loss: 1.1147\n",
      "Epoch [45/50], Loss: 1.1218\n",
      "Epoch [46/50], Loss: 1.1160\n",
      "Epoch [47/50], Loss: 1.1350\n",
      "Epoch [48/50], Loss: 1.1154\n",
      "Epoch [49/50], Loss: 1.1022\n",
      "Epoch [50/50], Loss: 1.1174\n"
     ]
    },
    {
     "data": {
      "image/png": "[encoded data removed]",
      "text/plain": [
       "<Figure size 640x480 with 1 Axes>"
      ]
     },
     "metadata": {},
     "output_type": "display_data"
    }
   ],
   "source": [
    "class LinearRegressionModel(nn.Module):\n",
    "    def __init__(self, input_size, output_size):\n",
    "        super(LinearRegressionModel, self).__init__()\n",
    "        self.linear = nn.Linear(input_size, output_size)\n",
    "\n",
    "    def forward(self, x):\n",
    "        return self.linear(x)\n",
    "\n",
    "# Train the model\n",
    "loss_history = train_model(LinearRegressionModel(131, 1), train_loader, num_epochs=50)\n",
    "\n",
    "# Plot the loss\n",
    "plot_loss(loss_history)"
   ]
  },
  {
   "cell_type": "code",
   "execution_count": 137,
   "id": "507d41e7",
   "metadata": {},
   "outputs": [
    {
     "name": "stdout",
     "output_type": "stream",
     "text": [
      "Epoch [1/50], Loss: 33.9061\n",
      "Epoch [2/50], Loss: 3.9051\n",
      "Epoch [3/50], Loss: 1.7027\n",
      "Epoch [4/50], Loss: 1.6233\n",
      "Epoch [5/50], Loss: 1.5034\n",
      "Epoch [6/50], Loss: 1.4262\n",
      "Epoch [7/50], Loss: 1.4280\n",
      "Epoch [8/50], Loss: 1.3459\n",
      "Epoch [9/50], Loss: 1.2912\n",
      "Epoch [10/50], Loss: 1.2984\n",
      "Epoch [11/50], Loss: 1.2653\n",
      "Epoch [12/50], Loss: 1.2765\n",
      "Epoch [13/50], Loss: 1.2099\n",
      "Epoch [14/50], Loss: 1.2845\n",
      "Epoch [15/50], Loss: 1.1880\n",
      "Epoch [16/50], Loss: 1.2289\n",
      "Epoch [17/50], Loss: 1.1849\n",
      "Epoch [18/50], Loss: 1.1599\n",
      "Epoch [19/50], Loss: 1.1368\n",
      "Epoch [20/50], Loss: 1.1636\n",
      "Epoch [21/50], Loss: 1.1290\n",
      "Epoch [22/50], Loss: 1.1689\n",
      "Epoch [23/50], Loss: 1.1618\n",
      "Epoch [24/50], Loss: 1.1562\n",
      "Epoch [25/50], Loss: 1.1233\n",
      "Epoch [26/50], Loss: 1.1408\n",
      "Epoch [27/50], Loss: 1.1264\n",
      "Epoch [28/50], Loss: 1.1360\n",
      "Epoch [29/50], Loss: 1.1407\n",
      "Epoch [30/50], Loss: 1.1110\n",
      "Epoch [31/50], Loss: 1.1201\n",
      "Epoch [32/50], Loss: 1.1179\n",
      "Epoch [33/50], Loss: 1.0847\n",
      "Epoch [34/50], Loss: 1.1252\n",
      "Epoch [35/50], Loss: 1.1199\n",
      "Epoch [36/50], Loss: 1.1168\n",
      "Epoch [37/50], Loss: 1.1038\n",
      "Epoch [38/50], Loss: 1.1023\n",
      "Epoch [39/50], Loss: 1.1060\n",
      "Epoch [40/50], Loss: 1.1120\n",
      "Epoch [41/50], Loss: 1.1169\n",
      "Epoch [42/50], Loss: 1.0834\n",
      "Epoch [43/50], Loss: 1.1221\n",
      "Epoch [44/50], Loss: 1.1033\n",
      "Epoch [45/50], Loss: 1.1241\n",
      "Epoch [46/50], Loss: 1.0841\n",
      "Epoch [47/50], Loss: 1.0924\n",
      "Epoch [48/50], Loss: 1.1027\n",
      "Epoch [49/50], Loss: 1.0997\n",
      "Epoch [50/50], Loss: 1.1057\n"
     ]
    },
    {
     "data": {
      "image/png": "[encoded data removed]",
      "text/plain": [
       "<Figure size 640x480 with 1 Axes>"
      ]
     },
     "metadata": {},
     "output_type": "display_data"
    }
   ],
   "source": [
    "class SimpleNN(nn.Module):\n",
    "    def __init__(self, input_size, output_size):\n",
    "        super(SimpleNN, self).__init__()\n",
    "        self.fc1 = nn.Linear(input_size, 3)\n",
    "        self.fc2 = nn.Linear(3, output_size)\n",
    "\n",
    "    def forward(self, x):\n",
    "        x = torch.relu(self.fc1(x))\n",
    "        return self.fc2(x)\n",
    "\n",
    "# Train the model\n",
    "loss_history = train_model(SimpleNN(131, 1), train_loader, num_epochs=50)\n",
    "\n",
    "# Plot the loss\n",
    "plot_loss(loss_history)"
   ]
  },
  {
   "cell_type": "code",
   "execution_count": 138,
   "id": "967e0d28",
   "metadata": {},
   "outputs": [
    {
     "name": "stdout",
     "output_type": "stream",
     "text": [
      "Epoch [1/50], Loss: 59.2351\n",
      "Epoch [2/50], Loss: 5.1718\n",
      "Epoch [3/50], Loss: 1.6193\n",
      "Epoch [4/50], Loss: 1.4001\n",
      "Epoch [5/50], Loss: 1.3670\n",
      "Epoch [6/50], Loss: 1.3187\n",
      "Epoch [7/50], Loss: 1.2920\n",
      "Epoch [8/50], Loss: 1.2401\n",
      "Epoch [9/50], Loss: 1.2602\n",
      "Epoch [10/50], Loss: 1.1969\n",
      "Epoch [11/50], Loss: 1.2039\n",
      "Epoch [12/50], Loss: 1.1853\n",
      "Epoch [13/50], Loss: 1.1718\n",
      "Epoch [14/50], Loss: 1.1537\n",
      "Epoch [15/50], Loss: 1.1659\n",
      "Epoch [16/50], Loss: 1.1319\n",
      "Epoch [17/50], Loss: 1.1418\n",
      "Epoch [18/50], Loss: 1.1571\n",
      "Epoch [19/50], Loss: 1.1391\n",
      "Epoch [20/50], Loss: 1.1485\n",
      "Epoch [21/50], Loss: 1.1286\n",
      "Epoch [22/50], Loss: 1.1208\n",
      "Epoch [23/50], Loss: 1.1363\n",
      "Epoch [24/50], Loss: 1.1337\n",
      "Epoch [25/50], Loss: 1.1507\n",
      "Epoch [26/50], Loss: 1.1201\n",
      "Epoch [27/50], Loss: 1.0947\n",
      "Epoch [28/50], Loss: 1.1193\n",
      "Epoch [29/50], Loss: 1.1330\n",
      "Epoch [30/50], Loss: 1.0980\n",
      "Epoch [31/50], Loss: 1.1190\n",
      "Epoch [32/50], Loss: 1.1864\n",
      "Epoch [33/50], Loss: 1.1313\n",
      "Epoch [34/50], Loss: 1.1423\n",
      "Epoch [35/50], Loss: 1.1163\n",
      "Epoch [36/50], Loss: 1.0913\n",
      "Epoch [37/50], Loss: 1.0954\n",
      "Epoch [38/50], Loss: 1.1268\n",
      "Epoch [39/50], Loss: 1.1272\n",
      "Epoch [40/50], Loss: 1.1124\n",
      "Epoch [41/50], Loss: 1.0909\n",
      "Epoch [42/50], Loss: 1.0955\n",
      "Epoch [43/50], Loss: 1.0983\n",
      "Epoch [44/50], Loss: 1.1099\n",
      "Epoch [45/50], Loss: 1.1109\n",
      "Epoch [46/50], Loss: 1.0753\n",
      "Epoch [47/50], Loss: 1.1030\n",
      "Epoch [48/50], Loss: 1.1016\n",
      "Epoch [49/50], Loss: 1.1118\n",
      "Epoch [50/50], Loss: 1.0875\n"
     ]
    },
    {
     "data": {
      "image/png": "[encoded data removed]",
      "text/plain": [
       "<Figure size 640x480 with 1 Axes>"
      ]
     },
     "metadata": {},
     "output_type": "display_data"
    }
   ],
   "source": [
    "class DeepNN(nn.Module):\n",
    "    def __init__(self, input_size, output_size):\n",
    "        super(DeepNN, self).__init__()\n",
    "        self.fc1 = nn.Linear(input_size, 10)\n",
    "        self.fc2 = nn.Linear(10, 5)\n",
    "        self.fc3 = nn.Linear(5, 5)\n",
    "        self.out = nn.Linear(5, output_size)\n",
    "\n",
    "    def forward(self, x):\n",
    "        x = torch.relu(self.fc1(x))\n",
    "        x = torch.relu(self.fc2(x))\n",
    "        x = torch.relu(self.fc3(x))\n",
    "        return self.out(x)\n",
    "\n",
    "# Train the model\n",
    "loss_history = train_model(DeepNN(131, 1), train_loader, num_epochs=50)\n",
    "\n",
    "# Plot the loss\n",
    "plot_loss(loss_history)\n"
   ]
  },
  {
   "cell_type": "code",
   "execution_count": 139,
   "id": "48892e2b",
   "metadata": {},
   "outputs": [
    {
     "name": "stdout",
     "output_type": "stream",
     "text": [
      "Epoch [1/50], Loss: 46.4742\n",
      "Epoch [2/50], Loss: 15.2515\n",
      "Epoch [3/50], Loss: 3.0810\n",
      "Epoch [4/50], Loss: 1.7951\n",
      "Epoch [5/50], Loss: 1.6811\n",
      "Epoch [6/50], Loss: 1.5987\n",
      "Epoch [7/50], Loss: 1.6370\n",
      "Epoch [8/50], Loss: 1.5186\n",
      "Epoch [9/50], Loss: 1.4598\n",
      "Epoch [10/50], Loss: 1.4284\n",
      "Epoch [11/50], Loss: 1.3789\n",
      "Epoch [12/50], Loss: 1.3457\n",
      "Epoch [13/50], Loss: 1.3250\n",
      "Epoch [14/50], Loss: 1.3749\n",
      "Epoch [15/50], Loss: 1.2782\n",
      "Epoch [16/50], Loss: 1.2784\n",
      "Epoch [17/50], Loss: 1.2789\n",
      "Epoch [18/50], Loss: 1.2396\n",
      "Epoch [19/50], Loss: 1.2294\n",
      "Epoch [20/50], Loss: 1.2493\n",
      "Epoch [21/50], Loss: 1.2277\n",
      "Epoch [22/50], Loss: 1.1966\n",
      "Epoch [23/50], Loss: 1.2056\n",
      "Epoch [24/50], Loss: 1.2126\n",
      "Epoch [25/50], Loss: 1.1761\n",
      "Epoch [26/50], Loss: 1.2004\n",
      "Epoch [27/50], Loss: 1.1426\n",
      "Epoch [28/50], Loss: 1.1503\n",
      "Epoch [29/50], Loss: 1.1467\n",
      "Epoch [30/50], Loss: 1.1554\n",
      "Epoch [31/50], Loss: 1.1677\n",
      "Epoch [32/50], Loss: 1.1312\n",
      "Epoch [33/50], Loss: 1.1415\n",
      "Epoch [34/50], Loss: 1.1642\n",
      "Epoch [35/50], Loss: 1.1227\n",
      "Epoch [36/50], Loss: 1.1904\n",
      "Epoch [37/50], Loss: 1.1347\n",
      "Epoch [38/50], Loss: 1.0834\n",
      "Epoch [39/50], Loss: 1.1026\n",
      "Epoch [40/50], Loss: 1.1409\n",
      "Epoch [41/50], Loss: 1.1254\n",
      "Epoch [42/50], Loss: 1.1194\n",
      "Epoch [43/50], Loss: 1.1087\n",
      "Epoch [44/50], Loss: 1.0871\n",
      "Epoch [45/50], Loss: 1.0898\n",
      "Epoch [46/50], Loss: 1.1003\n",
      "Epoch [47/50], Loss: 1.1473\n",
      "Epoch [48/50], Loss: 1.1241\n",
      "Epoch [49/50], Loss: 1.1067\n",
      "Epoch [50/50], Loss: 1.1060\n"
     ]
    },
    {
     "data": {
      "image/png": "[encoded data removed]",
      "text/plain": [
       "<Figure size 640x480 with 1 Axes>"
      ]
     },
     "metadata": {},
     "output_type": "display_data"
    }
   ],
   "source": [
    "class DeepNNWithDropout(nn.Module):\n",
    "    def __init__(self, input_size, output_size, dropout_prob=0.5):\n",
    "        super(DeepNNWithDropout, self).__init__()\n",
    "        self.fc1 = nn.Linear(input_size, 10)\n",
    "        self.fc2 = nn.Linear(10, 5)\n",
    "        self.fc3 = nn.Linear(5, 5)\n",
    "        self.out = nn.Linear(5, output_size)\n",
    "        self.dropout = nn.Dropout(dropout_prob)\n",
    "\n",
    "    def forward(self, x):\n",
    "        x = torch.relu(self.fc1(x))\n",
    "        x = self.dropout(x)\n",
    "        x = torch.relu(self.fc2(x))\n",
    "        x = self.dropout(x)\n",
    "        x = torch.relu(self.fc3(x))\n",
    "        x = self.dropout(x)\n",
    "        return self.out(x)\n",
    "\n",
    "# Train the model\n",
    "loss_history = train_model(SimpleNN(131, 1), train_loader, num_epochs=50)\n",
    "\n",
    "# Plot the loss\n",
    "plot_loss(loss_history)\n"
   ]
  },
  {
   "cell_type": "code",
   "execution_count": 140,
   "id": "9c72a566",
   "metadata": {},
   "outputs": [
    {
     "name": "stdout",
     "output_type": "stream",
     "text": [
      "Epoch [1/50], Loss: 32.3889\n",
      "Epoch [2/50], Loss: 1.6523\n",
      "Epoch [3/50], Loss: 1.4988\n",
      "Epoch [4/50], Loss: 1.3436\n",
      "Epoch [5/50], Loss: 1.3459\n",
      "Epoch [6/50], Loss: 1.2784\n",
      "Epoch [7/50], Loss: 1.2395\n",
      "Epoch [8/50], Loss: 1.1929\n",
      "Epoch [9/50], Loss: 1.1812\n",
      "Epoch [10/50], Loss: 1.2075\n",
      "Epoch [11/50], Loss: 1.1579\n",
      "Epoch [12/50], Loss: 1.1589\n",
      "Epoch [13/50], Loss: 1.1763\n",
      "Epoch [14/50], Loss: 1.1423\n",
      "Epoch [15/50], Loss: 1.1198\n",
      "Epoch [16/50], Loss: 1.1448\n",
      "Epoch [17/50], Loss: 1.1472\n",
      "Epoch [18/50], Loss: 1.0992\n",
      "Epoch [19/50], Loss: 1.1069\n",
      "Epoch [20/50], Loss: 1.1466\n",
      "Epoch [21/50], Loss: 1.1122\n",
      "Epoch [22/50], Loss: 1.1602\n",
      "Epoch [23/50], Loss: 1.1204\n",
      "Epoch [24/50], Loss: 1.1119\n",
      "Epoch [25/50], Loss: 1.1083\n",
      "Epoch [26/50], Loss: 1.1027\n",
      "Epoch [27/50], Loss: 1.1275\n",
      "Epoch [28/50], Loss: 1.1028\n",
      "Epoch [29/50], Loss: 1.1398\n",
      "Epoch [30/50], Loss: 1.0709\n",
      "Epoch [31/50], Loss: 1.1150\n",
      "Epoch [32/50], Loss: 1.1206\n",
      "Epoch [33/50], Loss: 1.1354\n",
      "Epoch [34/50], Loss: 1.1082\n",
      "Epoch [35/50], Loss: 1.1081\n",
      "Epoch [36/50], Loss: 1.1038\n",
      "Epoch [37/50], Loss: 1.0957\n",
      "Epoch [38/50], Loss: 1.1139\n",
      "Epoch [39/50], Loss: 1.0916\n",
      "Epoch [40/50], Loss: 1.1008\n",
      "Epoch [41/50], Loss: 1.1244\n",
      "Epoch [42/50], Loss: 1.0964\n",
      "Epoch [43/50], Loss: 1.1062\n",
      "Epoch [44/50], Loss: 1.0821\n",
      "Epoch [45/50], Loss: 1.1201\n",
      "Epoch [46/50], Loss: 1.1047\n",
      "Epoch [47/50], Loss: 1.1096\n",
      "Epoch [48/50], Loss: 1.1093\n",
      "Epoch [49/50], Loss: 1.0966\n",
      "Epoch [50/50], Loss: 1.1105\n"
     ]
    },
    {
     "data": {
      "image/png": "[encoded data removed]",
      "text/plain": [
       "<Figure size 640x480 with 1 Axes>"
      ]
     },
     "metadata": {},
     "output_type": "display_data"
    }
   ],
   "source": [
    "class DeepNNWithL1(nn.Module):\n",
    "    def __init__(self, input_size, output_size):\n",
    "        super(DeepNNWithL1, self).__init__()\n",
    "        self.fc1 = nn.Linear(input_size, 10)\n",
    "        self.fc2 = nn.Linear(10, 5)\n",
    "        self.fc3 = nn.Linear(5, 5)\n",
    "        self.out = nn.Linear(5, output_size)\n",
    "\n",
    "    def forward(self, x):\n",
    "        x = torch.relu(self.fc1(x))\n",
    "        x = torch.relu(self.fc2(x))\n",
    "        x = torch.relu(self.fc3(x))\n",
    "        return self.out(x)\n",
    "\n",
    "    def l1_penalty(self, lambda_l1=0.01):\n",
    "        l1_norm = sum(p.abs().sum() for p in self.parameters())\n",
    "        return lambda_l1 * l1_norm\n",
    "\n",
    "# Train the model\n",
    "loss_history = train_model(DeepNNWithL1(131, 1), train_loader, num_epochs=50)\n",
    "\n",
    "# Plot the loss\n",
    "plot_loss(loss_history)\n"
   ]
  },
  {
   "cell_type": "code",
   "execution_count": 141,
   "id": "31551de4",
   "metadata": {},
   "outputs": [
    {
     "name": "stdout",
     "output_type": "stream",
     "text": [
      "Epoch [1/50], Loss: 42.4490\n",
      "Epoch [2/50], Loss: 1.7853\n",
      "Epoch [3/50], Loss: 1.5148\n",
      "Epoch [4/50], Loss: 1.4079\n",
      "Epoch [5/50], Loss: 1.4283\n",
      "Epoch [6/50], Loss: 1.3064\n",
      "Epoch [7/50], Loss: 1.2771\n",
      "Epoch [8/50], Loss: 1.2069\n",
      "Epoch [9/50], Loss: 1.2053\n",
      "Epoch [10/50], Loss: 1.2238\n",
      "Epoch [11/50], Loss: 1.1889\n",
      "Epoch [12/50], Loss: 1.1906\n",
      "Epoch [13/50], Loss: 1.1813\n",
      "Epoch [14/50], Loss: 1.1194\n",
      "Epoch [15/50], Loss: 1.1601\n",
      "Epoch [16/50], Loss: 1.1116\n",
      "Epoch [17/50], Loss: 1.1671\n",
      "Epoch [18/50], Loss: 1.1401\n",
      "Epoch [19/50], Loss: 1.1159\n",
      "Epoch [20/50], Loss: 1.1688\n",
      "Epoch [21/50], Loss: 1.1399\n",
      "Epoch [22/50], Loss: 1.1399\n",
      "Epoch [23/50], Loss: 1.1099\n",
      "Epoch [24/50], Loss: 1.1194\n",
      "Epoch [25/50], Loss: 1.1098\n",
      "Epoch [26/50], Loss: 1.1144\n",
      "Epoch [27/50], Loss: 1.1134\n",
      "Epoch [28/50], Loss: 1.1264\n",
      "Epoch [29/50], Loss: 1.0829\n",
      "Epoch [30/50], Loss: 1.1014\n",
      "Epoch [31/50], Loss: 1.1320\n",
      "Epoch [32/50], Loss: 1.1228\n",
      "Epoch [33/50], Loss: 1.1129\n",
      "Epoch [34/50], Loss: 1.1186\n",
      "Epoch [35/50], Loss: 1.0968\n",
      "Epoch [36/50], Loss: 1.1216\n",
      "Epoch [37/50], Loss: 1.1572\n",
      "Epoch [38/50], Loss: 1.1328\n",
      "Epoch [39/50], Loss: 1.0971\n",
      "Epoch [40/50], Loss: 1.1130\n",
      "Epoch [41/50], Loss: 1.1171\n",
      "Epoch [42/50], Loss: 1.1099\n",
      "Epoch [43/50], Loss: 1.0969\n",
      "Epoch [44/50], Loss: 1.1170\n",
      "Epoch [45/50], Loss: 1.1010\n",
      "Epoch [46/50], Loss: 1.1018\n",
      "Epoch [47/50], Loss: 1.0985\n",
      "Epoch [48/50], Loss: 1.1114\n",
      "Epoch [49/50], Loss: 1.1080\n",
      "Epoch [50/50], Loss: 1.1182\n"
     ]
    },
    {
     "data": {
      "image/png": "[encoded data removed]",
      "text/plain": [
       "<Figure size 640x480 with 1 Axes>"
      ]
     },
     "metadata": {},
     "output_type": "display_data"
    }
   ],
   "source": [
    "class DeepNNWithL2(nn.Module):\n",
    "    def __init__(self, input_size, output_size):\n",
    "        super(DeepNNWithL2, self).__init__()\n",
    "        self.fc1 = nn.Linear(input_size, 10)\n",
    "        self.fc2 = nn.Linear(10, 5)\n",
    "        self.fc3 = nn.Linear(5, 5)\n",
    "        self.out = nn.Linear(5, output_size)\n",
    "\n",
    "    def forward(self, x):\n",
    "        x = torch.relu(self.fc1(x))\n",
    "        x = torch.relu(self.fc2(x))\n",
    "        x = torch.relu(self.fc3(x))\n",
    "        return self.out(x)\n",
    "\n",
    "# Train the model\n",
    "loss_history = train_model(DeepNNWithL2(131, 1), train_loader, num_epochs=50)\n",
    "\n",
    "# Plot the loss\n",
    "plot_loss(loss_history)"
   ]
  },
  {
   "cell_type": "code",
   "execution_count": null,
   "id": "82c17ce6-0307-4119-b165-e7ff6a747c5a",
   "metadata": {},
   "outputs": [],
   "source": []
  }
 ],
 "metadata": {
  "kernelspec": {
   "display_name": "Python 3 (ipykernel)",
   "language": "python",
   "name": "python3"
  },
  "language_info": {
   "codemirror_mode": {
    "name": "ipython",
    "version": 3
   },
   "file_extension": ".py",
   "mimetype": "text/x-python",
   "name": "python",
   "nbconvert_exporter": "python",
   "pygments_lexer": "ipython3",
   "version": "3.10.13"
  },
  "vscode": {
   "interpreter": {
    "hash": "d5e8e3a19af5ceb2434683dff87da6345c3b29f7eb0a8a138558c07d014a01cc"
   }
  }
 },
 "nbformat": 4,
 "nbformat_minor": 5
}
