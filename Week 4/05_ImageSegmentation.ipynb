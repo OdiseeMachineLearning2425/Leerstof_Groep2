{
 "cells": [
  {
   "cell_type": "markdown",
   "id": "a4546c4a-95ce-4bf5-b09e-fd32d2d4c954",
   "metadata": {},
   "source": [
    "# Image segmentation\n",
    "\n",
    "In dit voorbeeld zullen we gebruik maken van de Oxford Pets Dataset. Het model zal leren om objecten (bijv. huisdieren) van de achtergrond te onderscheiden.\n",
    "We gebruiken hiervoor de U-Net architectuur, een populair model voor afbeeldingssegmentatie. "
   ]
  },
  {
   "cell_type": "code",
   "execution_count": null,
   "id": "d54e0a4a-0733-4efd-bd35-d46a8e697488",
   "metadata": {},
   "outputs": [],
   "source": [
    "import torch\n",
    "import torch.nn as nn\n",
    "import torch.optim as optim\n",
    "import torch.utils.data as data\n",
    "from torchvision import transforms, datasets\n",
    "import matplotlib.pyplot as plt\n",
    "import numpy as np\n",
    "from PIL import Image\n",
    "import os\n",
    "from tqdm import tqdm\n",
    "import opendatasets as od\n",
    "import tarfile\n",
    "\n",
    "od.download(\"http://www.robots.ox.ac.uk/~vgg/data/pets/data/images.tar.gz\", data_dir=\"oxford\")\n",
    "od.download(\"http://www.robots.ox.ac.uk/~vgg/data/pets/data/annotations.tar.gz\", data_dir=\"oxford\")\n",
    "\n",
    "# Controleren of GPU beschikbaar is\n",
    "device = torch.device(\"cuda\" if torch.cuda.is_available() else \"cpu\")\n",
    "\n",
    "# Open het .tar.gz bestand\n",
    "with tarfile.open(\"oxford/images.tar.gz\", \"r:gz\") as tar:\n",
    "    # Pak alle inhoud uit naar de \"oxford/images\" directory\n",
    "    tar.extractall(path=\"oxford\")\n",
    "\n",
    "# Open het .tar.gz bestand\n",
    "with tarfile.open(\"oxford/annotations.tar.gz\", \"r:gz\") as tar:\n",
    "    # Pak alle inhoud uit naar de \"oxford/images\" directory\n",
    "    tar.extractall(path=\"oxford\")"
   ]
  },
  {
   "cell_type": "markdown",
   "id": "58e53b5d-14c4-406b-8269-4e8dc5b465d9",
   "metadata": {},
   "source": [
    "## Dataset inladen"
   ]
  },
  {
   "cell_type": "code",
   "execution_count": null,
   "id": "cc756d13-861e-4e06-8c9f-8229f1dad38e",
   "metadata": {},
   "outputs": [],
   "source": []
  },
  {
   "cell_type": "markdown",
   "id": "cc8a70bd-ddea-40eb-ad91-5dedfcb451ca",
   "metadata": {},
   "source": [
    "## Samenstellen van het U-net model"
   ]
  },
  {
   "cell_type": "code",
   "execution_count": null,
   "id": "b7484d73-5bba-404f-9b51-a98c56e7ee04",
   "metadata": {},
   "outputs": [],
   "source": []
  },
  {
   "cell_type": "markdown",
   "id": "bd905be4-8eaa-4fd3-acca-e53a30e5c4f4",
   "metadata": {},
   "source": [
    "## Training loop"
   ]
  },
  {
   "cell_type": "code",
   "execution_count": null,
   "id": "dee4d75f-9420-49fe-ae02-78f1dd46c2b2",
   "metadata": {},
   "outputs": [],
   "source": []
  },
  {
   "cell_type": "markdown",
   "id": "5e85619b-045a-4bb0-8f90-c7cb5ffadf6f",
   "metadata": {},
   "source": [
    "## Evaluatie"
   ]
  },
  {
   "cell_type": "code",
   "execution_count": null,
   "id": "90b6daad-fc99-4122-b651-4eca002954b9",
   "metadata": {},
   "outputs": [],
   "source": [
    "# Evalueren en Visualiseren\n",
    "model.eval()\n",
    "\n",
    "def display(display_list):\n",
    "    plt.figure(figsize=(15, 15))\n",
    "    title = ['Input Image', 'True Mask', 'Predicted Mask']\n",
    "    \n",
    "    for i in range(len(display_list)):\n",
    "        plt.subplot(1, len(display_list), i+1)\n",
    "        plt.title(title[i])\n",
    "        plt.imshow(display_list[i].cpu().numpy().squeeze(), cmap='gray')\n",
    "        plt.axis('off')\n",
    "    plt.show()\n",
    "\n",
    "# Testen op enkele voorbeelden\n",
    "with torch.no_grad():\n",
    "    for images, masks in train_loader:\n",
    "        images, masks = images.to(device), masks.to(device)\n",
    "        predictions = model(images)\n",
    "        print(masks[0].unique())\n",
    "        predictions = (predictions > 0.5).float()  # Thresholding\n",
    "        display([images[0].permute(1, 2, 0), masks[0], predictions[0]])\n",
    "        break\n"
   ]
  },
  {
   "cell_type": "markdown",
   "id": "79bd0b77-e172-412c-b631-065ea2ec3ea2",
   "metadata": {},
   "source": [
    "## Oefening\n",
    "\n",
    "Herbouw het bovenstaande model met Keras, zorg er ook voor dat de loss bestudeerd kan worden met tensorboard"
   ]
  },
  {
   "cell_type": "code",
   "execution_count": null,
   "id": "594e06dc-719c-4588-b10b-f7cd7153a28c",
   "metadata": {},
   "outputs": [],
   "source": [
    "import keras\n",
    "from keras import layers, models\n",
    "import matplotlib.pyplot as plt\n",
    "import numpy as np\n",
    "import os\n",
    "import datetime\n",
    "from keras.utils import Sequence, to_categorical\n",
    "from keras.preprocessing.image import load_img, img_to_array\n",
    "import tensorflow as tf\n",
    "\n",
    "os.environ[\"KERAS_BACKEND\"] = \"torch\""
   ]
  },
  {
   "cell_type": "code",
   "execution_count": null,
   "id": "669fb4a2-3602-4548-9d76-e4fc038932f7",
   "metadata": {},
   "outputs": [],
   "source": []
  },
  {
   "cell_type": "code",
   "execution_count": null,
   "id": "84064d60-630f-4fd6-a84b-29f800f1b6cb",
   "metadata": {},
   "outputs": [],
   "source": []
  },
  {
   "cell_type": "code",
   "execution_count": null,
   "id": "f5618eb5-610d-4027-93d4-a65cc53679e1",
   "metadata": {},
   "outputs": [],
   "source": []
  }
 ],
 "metadata": {
  "kernelspec": {
   "display_name": "Python 3 (ipykernel)",
   "language": "python",
   "name": "python3"
  },
  "language_info": {
   "codemirror_mode": {
    "name": "ipython",
    "version": 3
   },
   "file_extension": ".py",
   "mimetype": "text/x-python",
   "name": "python",
   "nbconvert_exporter": "python",
   "pygments_lexer": "ipython3",
   "version": "3.10.13"
  }
 },
 "nbformat": 4,
 "nbformat_minor": 5
}
