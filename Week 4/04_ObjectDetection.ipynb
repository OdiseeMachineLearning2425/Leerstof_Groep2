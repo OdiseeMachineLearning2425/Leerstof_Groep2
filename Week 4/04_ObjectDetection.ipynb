{
 "cells": [
  {
   "cell_type": "markdown",
   "id": "f56f197f-f5e1-44c3-a53b-ca98d075ec35",
   "metadata": {},
   "source": [
    "# Object Localisatie\n",
    "\n",
    "In dit notebook gaan we twee kernconcepten van computer vision implementeren: object localisatie en object detectie. We zullen deze oefeningen uitvoeren met behulp van zowel PyTorch als Keras, en we gebruiken zowel zelf te trainen netwerken als pre-trained netwerken om de taken te voltooien. Object localisatie is gericht op het vinden van de positie van een enkel object in een afbeelding, terwijl object detectie het vinden van meerdere objecten met hun bijbehorende klassen omvat."
   ]
  },
  {
   "cell_type": "code",
   "execution_count": null,
   "id": "63594cd4-45b3-4ec7-a078-e2ba1ffe1962",
   "metadata": {},
   "outputs": [
    {
     "name": "stdout",
     "output_type": "stream",
     "text": [
      "Please provide your Kaggle credentials to download this dataset. Learn more: http://bit.ly/kaggle-creds\n",
      "Your Kaggle username:"
     ]
    }
   ],
   "source": [
    "import os\n",
    "import xml.etree.ElementTree as ET\n",
    "import torch\n",
    "import torchvision.transforms as transforms\n",
    "import torch.nn as nn\n",
    "import torch.optim as optim\n",
    "from PIL import Image\n",
    "from torch.utils.data import Dataset, DataLoader\n",
    "import matplotlib.pyplot as plt\n",
    "import opendatasets as od\n",
    "\n",
    "od.download(\"https://www.kaggle.com/datasets/mbkinaci/image-localization-dataset\")\n",
    "\n",
    "# Helper Functies\n",
    "def imshow(img, title=None):\n",
    "    \"\"\"Toont een afbeelding.\"\"\"\n",
    "    npimg = img.numpy() if isinstance(img, torch.Tensor) else img\n",
    "    plt.imshow(np.transpose(npimg, (1, 2, 0)))\n",
    "    if title:\n",
    "        plt.title(title)\n",
    "    plt.show()\n",
    "\n",
    "def show_image_with_bbox(image, bbox, title=None):\n",
    "    \"\"\"Toont een afbeelding met een bounding box.\"\"\"\n",
    "    plt.imshow(image)\n",
    "    plt.gca().add_patch(plt.Rectangle((bbox[0]*64+64, bbox[1]*128*64+64), bbox[2]*128, bbox[3]*128,\n",
    "                                      fill=False, edgecolor='red', linewidth=2))\n",
    "    if title:\n",
    "        plt.title(title)\n",
    "    plt.show()"
   ]
  },
  {
   "cell_type": "markdown",
   "id": "433044e9-e9b8-4c46-8beb-dfe668af17e4",
   "metadata": {
    "jp-MarkdownHeadingCollapsed": true
   },
   "source": [
    "## Oefening 1: Object Localisatie met PyTorch\n",
    "\n",
    "In deze oefening gebruiken we PyTorch om een eenvoudig neuraal netwerk te trainen voor object localisatie. Het doel van object localisatie is om de coördinaten van de bounding box rondom een enkel object in een afbeelding te voorspellen. We maken een convolutioneel neuraal netwerk (CNN) dat leert om vier waarden te voorspellen: de x- en y-coördinaten van de bovenste linkerhoek van de bounding box, en de breedte en hoogte van de box. \n",
    "\n",
    "We gebruiken een dummy dataset van willekeurige afbeeldingen en trainen het model om één bounding box te voorspellen voor elke afbeelding."
   ]
  },
  {
   "cell_type": "code",
   "execution_count": null,
   "id": "9fd56c55-5b75-4fa8-bb36-f7d65bdd22b7",
   "metadata": {},
   "outputs": [],
   "source": []
  },
  {
   "cell_type": "code",
   "execution_count": null,
   "id": "9f31c1d7-fca5-46d4-a801-f4e8ca97fb69",
   "metadata": {},
   "outputs": [],
   "source": []
  },
  {
   "cell_type": "code",
   "execution_count": null,
   "id": "fb44b854-2c6f-4091-8515-367edc4652bb",
   "metadata": {},
   "outputs": [],
   "source": []
  },
  {
   "cell_type": "markdown",
   "id": "27c01bb4-3add-4a29-8e68-1e591dc63f09",
   "metadata": {},
   "source": [
    "## Oefening 2: Object Detectie met PyTorch\n",
    "\n",
    "In deze oefening gebruiken we PyTorch om object detectie uit te voeren met een pre-trained Faster R-CNN-model. Faster R-CNN (Region-Based Convolutional Neural Network) is een state-of-the-art model voor object detectie dat zowel de bounding boxes als de klassen van meerdere objecten in een afbeelding kan voorspellen.\n",
    "\n",
    "We maken gebruik van een pre-trained Faster R-CNN-model dat beschikbaar is via de `torchvision` bibliotheek. Dit model is al getraind op de COCO dataset, dus we kunnen het gebruiken om objecten in nieuwe afbeeldingen te detecteren zonder aanvullende training."
   ]
  },
  {
   "cell_type": "code",
   "execution_count": null,
   "id": "fd97a0b9-5d1c-47b2-ac25-e4e02898729d",
   "metadata": {},
   "outputs": [],
   "source": []
  },
  {
   "cell_type": "markdown",
   "id": "0ca55f3f-70f5-4322-847f-0ded9ccca5e6",
   "metadata": {},
   "source": [
    "## Oefening 3: Object Localisatie met Keras\n",
    "\n",
    "In deze oefening implementeren we object localisatie met Keras. Net als in Oefening 1 bouwen we een eenvoudig CNN-model dat leert om de coördinaten van een bounding box te voorspellen voor een enkel object in een afbeelding. Dit model wordt getraind op een dummy dataset met willekeurige afbeeldingen en dummy bounding box-coördinaten.\n",
    "\n",
    "Het model bestaat uit een reeks convolutie- en poolinglagen, gevolgd door volledig verbonden lagen die de bounding box-coördinaten voorspellen. We gebruiken Mean Squared Error (MSE) als de verliesfunctie om de coördinaten te trainen."
   ]
  },
  {
   "cell_type": "code",
   "execution_count": null,
   "id": "0afddba7-7439-4e2c-ac52-ff238d9768b8",
   "metadata": {},
   "outputs": [],
   "source": []
  },
  {
   "cell_type": "code",
   "execution_count": null,
   "id": "c0c10b96-59d4-43c9-8814-2a213945c19a",
   "metadata": {},
   "outputs": [],
   "source": []
  },
  {
   "cell_type": "code",
   "execution_count": null,
   "id": "cff5c403-c203-490f-9bbc-9bfda7dda229",
   "metadata": {},
   "outputs": [],
   "source": []
  }
 ],
 "metadata": {
  "kernelspec": {
   "display_name": "Python 3 (ipykernel)",
   "language": "python",
   "name": "python3"
  },
  "language_info": {
   "codemirror_mode": {
    "name": "ipython",
    "version": 3
   },
   "file_extension": ".py",
   "mimetype": "text/x-python",
   "name": "python",
   "nbconvert_exporter": "python",
   "pygments_lexer": "ipython3",
   "version": "3.10.13"
  }
 },
 "nbformat": 4,
 "nbformat_minor": 5
}
