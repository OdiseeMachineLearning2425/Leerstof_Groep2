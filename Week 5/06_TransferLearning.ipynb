{
 "cells": [
  {
   "cell_type": "markdown",
   "id": "1f419706-decc-4a30-b2b0-70846e4ff91d",
   "metadata": {},
   "source": [
    "# Transfer learning met PyTorch\n",
    "\n",
    "In deze notebook gaan we het concept van transfer learning onderzoeken. Transfer learning is een techniek waarbij een pre-trained neuraal netwerk wordt gebruikt als startpunt voor een nieuwe taak. Er zijn twee belangrijke benaderingen binnen transfer learning:\n",
    "\n",
    "1. **Feature Extractie**: Hierbij houden we de gewichten van het pre-trained model vast en gebruiken we het model als feature extractor. Alleen het laatste (geclassificeerde) deel van het netwerk wordt aangepast aan de nieuwe taak.\n",
    "  \n",
    "2. **Fine-Tuning**: Hierbij worden de gewichten van (een deel van) het pre-trained model verder getraind op de nieuwe taak. Dit maakt het mogelijk om het model verder aan te passen aan de specifieke data.\n",
    "\n",
    "## Stappen in de notebook\n",
    "\n",
    "1. **Data voorbereiding**:\n",
    "   - We gebruiken een kleine dataset voor classificatie (bijvoorbeeld een subset van de CIFAR-10 dataset).\n",
    "\n",
    "2. **Model laden en voorbereiden**:\n",
    "   - We laden een pre-trained model (bijv. ResNet-18) uit PyTorch's `torchvision` bibliotheek.\n",
    "   - We maken aanpassingen voor beide benaderingen van transfer learning.\n",
    "\n",
    "3. **Training**:\n",
    "   - We demonstreren zowel de **feature extractie** als de **fine-tuning** methode.\n",
    "   - We trainen de laatste laag voor de feature extractie en een deel van het netwerk voor fine-tuning.\n",
    "\n",
    "4. **Evaluatie**:\n",
    "   - We evalueren de prestaties van beide benaderingen op een testset.\n",
    "\n",
    "---\n",
    "\n",
    "## 1. Data Voorbereiding\n",
    "\n",
    "We beginnen met het importeren van de benodigde bibliotheken en het laden van de dataset.\n"
   ]
  },
  {
   "cell_type": "code",
   "execution_count": null,
   "id": "b446b01c-c445-480e-8d8a-fbf2f1f9b695",
   "metadata": {},
   "outputs": [],
   "source": [
    "import torch\n",
    "import torch.nn as nn\n",
    "import torch.optim as optim\n",
    "import torchvision\n",
    "import torchvision.transforms as transforms\n",
    "from torch.utils.data import DataLoader, Subset\n",
    "import random\n",
    "\n",
    "# Data transformaties\n",
    "transform = transforms.Compose([\n",
    "    transforms.Resize(224),  # Resize to 224x224 pixels\n",
    "    transforms.ToTensor(),\n",
    "    transforms.Normalize(mean=[0.485, 0.456, 0.406], std=[0.229, 0.224, 0.225]),\n",
    "])\n",
    "\n",
    "# Laden van de CIFAR-10 dataset\n",
    "trainset = torchvision.datasets.CIFAR10(root='./data', train=True, download=True, transform=transform)\n",
    "total_samples = len(trainset)\n",
    "sample_size = int(0.01 * total_samples)\n",
    "random_indices = random.sample(range(total_samples), sample_size)\n",
    "trainset_reduced = Subset(trainset, random_indices)\n",
    "trainloader = DataLoader(trainset_reduced, batch_size=32, shuffle=True, num_workers=2)\n",
    "\n",
    "testset = torchvision.datasets.CIFAR10(root='./data', train=False, download=True, transform=transform)\n",
    "total_samples = len(testset)\n",
    "sample_size = int(0.01 * total_samples)\n",
    "random_indices = random.sample(range(total_samples), sample_size)\n",
    "testset_reduced = Subset(testset, random_indices)\n",
    "\n",
    "# Create a DataLoader for the reduced dataset\n",
    "testloader = DataLoader(testset_reduced, batch_size=32, shuffle=True, num_workers=2)\n",
    "\n",
    "# Klassen in CIFAR-10\n",
    "classes = ('plane', 'car', 'bird', 'cat', 'deer', 'dog', 'frog', 'horse', 'ship', 'truck')"
   ]
  },
  {
   "cell_type": "markdown",
   "id": "35834ee8-aaeb-4629-b08a-b24c971930de",
   "metadata": {},
   "source": [
    "## 2. Model Laden en Voorbereiden\n",
    "\n",
    "### A) Feature Extractie\n",
    "\n",
    "In deze aanpak houden we de gewichten van het pre-trained model vast en passen we alleen de laatste laag aan."
   ]
  },
  {
   "cell_type": "code",
   "execution_count": null,
   "id": "d0c803f4-3066-4fdf-89fd-10e11e73b7a5",
   "metadata": {},
   "outputs": [],
   "source": []
  },
  {
   "cell_type": "markdown",
   "id": "4a71199d-e20c-4d5b-bfbc-bb79bdff2274",
   "metadata": {},
   "source": [
    "### B) Fine-Tuning\n",
    "\n",
    "In deze aanpak staan we toe dat sommige (of alle) gewichten verder worden getraind."
   ]
  },
  {
   "cell_type": "code",
   "execution_count": null,
   "id": "c1d74949-e58e-48f5-823f-f53cbc9163ea",
   "metadata": {},
   "outputs": [],
   "source": []
  },
  {
   "cell_type": "markdown",
   "id": "d131b383-34c3-4bc1-96ea-b27ad010324a",
   "metadata": {},
   "source": [
    "## 3. Training\n",
    "\n",
    "Hier zullen we beide modellen trainen, eerst het model voor feature extractie, gevolgd door het model voor fine-tuning.\n",
    "\n",
    "### A) Feature Extractie Training"
   ]
  },
  {
   "cell_type": "code",
   "execution_count": null,
   "id": "525a435f-1252-4d92-b229-f40acd796915",
   "metadata": {},
   "outputs": [],
   "source": []
  },
  {
   "cell_type": "markdown",
   "id": "13ac6ede-4350-4275-ac09-268fd39aa2c6",
   "metadata": {},
   "source": [
    "### B) Fine-Tuning Training"
   ]
  },
  {
   "cell_type": "code",
   "execution_count": null,
   "id": "939bd4ab-97f3-44e4-a626-febf32029c36",
   "metadata": {},
   "outputs": [],
   "source": []
  },
  {
   "cell_type": "markdown",
   "id": "b22f8f91-e70e-4c36-96b2-d31f5b8fc233",
   "metadata": {},
   "source": [
    "## 4. Evaluatie\n",
    "Na het trainen evalueren we de prestaties van beide modellen op de testset.\n",
    "\n",
    "### A) Evaluatie van het Feature Extractie Model"
   ]
  },
  {
   "cell_type": "code",
   "execution_count": null,
   "id": "f023adf2-831e-489b-930f-de6ad709101f",
   "metadata": {},
   "outputs": [],
   "source": []
  },
  {
   "cell_type": "markdown",
   "id": "1e8e21ae-b474-4a6c-b171-3e6fd5d8c7bf",
   "metadata": {},
   "source": [
    "### B) Evaluatie van het Fine-Tuning Model"
   ]
  },
  {
   "cell_type": "code",
   "execution_count": null,
   "id": "24afef41-9712-48df-8a5d-00721780fc4f",
   "metadata": {},
   "outputs": [],
   "source": []
  },
  {
   "cell_type": "markdown",
   "id": "5e037cdb-974e-4fad-9b83-a35106145aac",
   "metadata": {},
   "source": [
    "## Oefening: transfer learning met extra lagen voor FashionMNIST\n",
    "\n",
    "### Oefeningomschrijving:\n",
    "In deze oefening ga je een neuraal netwerk trainen met de FashionMNIST dataset, gebruikmakend van transfer learning. Je zult een pre-trained ResNet-18 model gebruiken, en daar drie extra volledig verbonden lagen aan toevoegen. Vervolgens train je het model en evalueer je de prestaties.\n",
    "\n",
    "### Stappen:\n",
    "\n",
    "**Data Voorbereiding:**\n",
    "\n",
    "Laad de FashionMNIST dataset en breng de nodige transformaties aan.\n",
    "Splits de data in een trainingsset en een testset.\n",
    "\n",
    "**Model Voorbereiding:**\n",
    "\n",
    "Laad een pre-trained ResNet-18 model.\n",
    "Pas het model aan door drie extra volledig verbonden lagen toe te voegen:\n",
    "* De eerste extra laag moet 512 neuronen hebben en een ReLU activatiefunctie.\n",
    "* De tweede extra laag moet 256 neuronen hebben en een ReLU activatiefunctie.\n",
    "* De derde extra laag moet 128 neuronen hebben en een ReLU activatiefunctie.\n",
    "* De laatste output laag moet het aantal klassen in FashionMNIST (10 klassen) bevatten.\n",
    "\n",
    "**Training:**\n",
    "\n",
    "Definieer een loss-functie en een optimizer.\n",
    "Train het model voor een aantal epochs.\n",
    "Meet en print de tijd die elke epoch kost.\n",
    "\n",
    "**Evaluatie:**\n",
    "\n",
    "Evalueer de prestaties van het getrainde model op de testset en rapporteer de accuraatheid.\n",
    "\n",
    "**Vragen om te beantwoorden:**\n",
    "\n",
    "* Wat is het effect van de extra lagen op de prestaties van het model?\n",
    "* Hoeveel tijd kost elke epoch en hoe varieert dit met het aantal lagen?"
   ]
  },
  {
   "cell_type": "code",
   "execution_count": null,
   "id": "c9bc1812-c1ef-4699-96b3-831aed35ea62",
   "metadata": {},
   "outputs": [],
   "source": []
  }
 ],
 "metadata": {
  "kernelspec": {
   "display_name": "Python 3 (ipykernel)",
   "language": "python",
   "name": "python3"
  },
  "language_info": {
   "codemirror_mode": {
    "name": "ipython",
    "version": 3
   },
   "file_extension": ".py",
   "mimetype": "text/x-python",
   "name": "python",
   "nbconvert_exporter": "python",
   "pygments_lexer": "ipython3",
   "version": "3.10.13"
  }
 },
 "nbformat": 4,
 "nbformat_minor": 5
}
