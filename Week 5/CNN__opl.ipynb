{
 "cells": [
  {
   "cell_type": "markdown",
   "metadata": {},
   "source": [
    "# Convolutioneel Neuraal Netwerk\n",
    "\n",
    "In deze opdracht ga je een model opbouwen om op basis van een aantal MRI-scans te detecteren of een persoon een hersentumor heeft of niet.\n",
    "\n",
    "Hiervoor maken we gebruik van [deze dataset](https://www.kaggle.com/datasets/navoneel/brain-mri-images-for-brain-tumor-detection) die een 253 scans bevat.\n",
    "\n",
    "Doorheen deze oefening ga je de volgende stappen uitvoeren:\n",
    "* Data downloaden en inladen\n",
    "* Data augmentation\n",
    "* Data modelling\n",
    "* Model evaluation\n",
    "\n",
    "Plaats je code voor deze delen in de stappen hieronder. Vergeet ook zeker niet de bijhorende vragen te beantwoorden.\n",
    "\n",
    "Evaluatie:\n",
    "* Code-correctheid: 30%\n",
    "* Code-netheid/kwaliteit: 20%\n",
    "* Beantwoorde vragen: 50%\n",
    "\n",
    "**Opgepast:** Laat de output staan zodat het eenvoudiger is om je bekomen resultaten te interpreteren"
   ]
  },
  {
   "cell_type": "code",
   "execution_count": 23,
   "metadata": {},
   "outputs": [
    {
     "name": "stdout",
     "output_type": "stream",
     "text": [
      "Using device: cuda\n"
     ]
    }
   ],
   "source": [
    "# plaats alle benodigde imports hier\n",
    "import os\n",
    "import opendatasets as od\n",
    "import numpy as np\n",
    "import matplotlib.pyplot as plt\n",
    "import torch\n",
    "import torch.nn as nn\n",
    "import torch.nn.functional as F\n",
    "import torch.optim as optim\n",
    "import torchvision\n",
    "from torchvision import datasets, models, transforms\n",
    "from torch.utils.data import DataLoader, Dataset, random_split\n",
    "from sklearn.model_selection import train_test_split\n",
    "from sklearn.metrics import precision_score, recall_score, f1_score\n",
    "from PIL import Image\n",
    "\n",
    "# Controleer of we toegang hebben tot GPU\n",
    "device = torch.device(\"cuda\" if torch.cuda.is_available() else \"cpu\")\n",
    "print(f'Using device: {device}')\n"
   ]
  },
  {
   "cell_type": "markdown",
   "metadata": {},
   "source": [
    "## Data downloaden en inladen\n",
    "\n",
    "Download in de code-cellen hieronder de dataset en lees deze in. Zorg ervoor dat je een trainings en validatiedata hebt.\n",
    "Een testset moet niet apart gehouden worden\n",
    "Om de dataset in te laden kan je de ImageFolder klasse gebruiken van pytorch.\n",
    "\n",
    "Zorg er ook voor dat er aan data augmentation gedaan wordt. \n",
    "Voorzie dat er minstens drie verschillende augmentations uitgevoerd worden. \n",
    "\n",
    "Vragen:\n",
    "* Hoe is de dataset gestructureerd?\n",
    "* Hoe vind je de labels?\n",
    "* Is er een splitsing tussen trainings/validatie/testdata of moet je dit zelf verzorgen?\n",
    "* Hoeveel beelden kan je overhouden voor validatiedata?\n",
    "* Met het aantal beelden in deze dataset: op welke manieren kan je er toch voor zorgen dat je een goed getrained model kan bekomen.\n",
    "  Wat zijn de belangrijkste parameters van de verschillende augmentation lagen? Wat is het effect van deze parameter. **Let op:** Wees hierbij zo volledig mogelijk. Geef dus niet alleen de waarde van de parameters maar ook de beschrijving van het effect van die parameter."
   ]
  },
  {
   "cell_type": "markdown",
   "metadata": {},
   "source": [
    "**Antwoord:**"
   ]
  },
  {
   "cell_type": "code",
   "execution_count": 11,
   "metadata": {},
   "outputs": [
    {
     "name": "stdout",
     "output_type": "stream",
     "text": [
      "Skipping, found downloaded files in \"./brain-mri-images-for-brain-tumor-detection\" (use force=True to force download)\n"
     ]
    }
   ],
   "source": [
    "# downloaden dataset\n",
    "od.download(\"https://www.kaggle.com/datasets/navoneel/brain-mri-images-for-brain-tumor-detection\")\n",
    "base_dir = \"./brain-mri-images-for-brain-tumor-detection\"\n",
    "if os.path.exists(os.path.join(base_dir, \"brain_tumor_dataset\")):\n",
    "    os.system(\"rm -rf \"+os.path.join(base_dir, \"brain_tumor_dataset\"))"
   ]
  },
  {
   "cell_type": "code",
   "execution_count": 12,
   "metadata": {},
   "outputs": [
    {
     "name": "stdout",
     "output_type": "stream",
     "text": [
      "Number of images with tumor: 155\n",
      "Number of images without tumor: 98\n",
      "Train loader batches: 7\n",
      "Validation loader batches: 2\n"
     ]
    }
   ],
   "source": [
    "# Bekijk de mapstructuur\n",
    "tumor_dir = os.path.join(base_dir, \"yes\")\n",
    "no_tumor_dir = os.path.join(base_dir, \"no\")\n",
    "\n",
    "print(f\"Number of images with tumor: {len(os.listdir(tumor_dir))}\")\n",
    "print(f\"Number of images without tumor: {len(os.listdir(no_tumor_dir))}\")\n",
    "\n",
    "# 1. Definieer de transformaties voor data-augmentatie en normalisatie\n",
    "data_transforms = {\n",
    "    'train': transforms.Compose([\n",
    "        transforms.RandomHorizontalFlip(),  # Willekeurige horizontale spiegeling\n",
    "        transforms.RandomRotation(10),  # Willekeurige rotatie tot 10 graden\n",
    "        transforms.RandomResizedCrop(224),  # Willekeurige uitsnede en resize naar 224x224\n",
    "        transforms.ToTensor(),  # Converteer naar tensor\n",
    "        transforms.Normalize([0.485, 0.456, 0.406], [0.229, 0.224, 0.225])  # Normalisatie\n",
    "    ]),\n",
    "    'val': transforms.Compose([\n",
    "        transforms.Resize(256),  # Resize naar 256x256\n",
    "        transforms.CenterCrop(224),  # Uitsnede uit het midden naar 224x224\n",
    "        transforms.ToTensor(),  # Converteer naar tensor\n",
    "        transforms.Normalize([0.485, 0.456, 0.406], [0.229, 0.224, 0.225])  # Normalisatie\n",
    "    ]),\n",
    "}\n",
    "\n",
    "# 2. Gebruik ImageFolder om de dataset te laden\n",
    "train_dataset = datasets.ImageFolder(root=base_dir, transform=data_transforms['train'])\n",
    "val_dataset = datasets.ImageFolder(root=base_dir, transform=data_transforms['val'])\n",
    "\n",
    "# 3. Splits de dataset in training en validatie sets\n",
    "train_size = int(0.8 * len(train_dataset))  # 80% voor training\n",
    "val_size = len(train_dataset) - train_size   # 20% voor validatie\n",
    "train_dataset, val_dataset = random_split(train_dataset, [train_size, val_size])\n",
    "\n",
    "# 4. Maak de DataLoaders aan\n",
    "batch_size = 32  # Batch size voor training en validatie\n",
    "\n",
    "train_loader = DataLoader(train_dataset, batch_size=batch_size, shuffle=True, num_workers=4)\n",
    "val_loader = DataLoader(val_dataset, batch_size=batch_size, shuffle=False, num_workers=4)\n",
    "\n",
    "print(f\"Train loader batches: {len(train_loader)}\")\n",
    "print(f\"Validation loader batches: {len(val_loader)}\")\n"
   ]
  },
  {
   "cell_type": "markdown",
   "metadata": {},
   "source": [
    "## Data modelling\n",
    "\n",
    "Stel nu door gebruik te maken van het pytorch framework een convolutioneel neuraal netwerk op met minstens 3 convolutionele lagen.\n",
    "Zorg dat de structuur van het neuraal netwerk voldoet aan de best practices gezien in de les.\n",
    "Train het model en toon een geschiedenis van het leerproces waarbij je kijkt naar de accuracy, precision en recall.\n",
    "\n",
    "Vragen:\n",
    "* Geef een korte beschrijving van hoe de verschillende types lagen werken. \n",
    "* Waarom is het aangeraden om met convolutionele lagen te werken ipv fully-connected lagen?\n",
    "* Welke types hyperparameter heb je gebruikt in de verschillende lagen. Wees opnieuw ook hier voldoende duidelijk door de betekenis van de hyperparameter op de tensors uit te leggen. (max 5 zinnen per parameter)\n",
    "* Geef hieronder voor elke laag (niet van het data augmentation gedeelte) weer welke hyperparameters je gekozen hebt en welke input en output dimensies er verwacht worden. Een voorbeeld van de verwachte output zie je hieronder.\n",
    "* Welke loss functie heb je nodig en waarom?\n",
    "* Wat is de activatiefunctie in de laatste laag en waarom?"
   ]
  },
  {
   "cell_type": "markdown",
   "metadata": {},
   "source": [
    "**Antwoord:**\n",
    "\n",
    "* Laag 1: Convolutionele Laag\n",
    "    * Input dimensies: 200 x 200 x 3\n",
    "    * Output dimensies: ....\n",
    "    * Num kernels:\n",
    "    * Kernel size:\n",
    "    * Stride: \n",
    "    * Padding: \n",
    "    "
   ]
  },
  {
   "cell_type": "code",
   "execution_count": 13,
   "metadata": {},
   "outputs": [],
   "source": [
    "# create complete model\n",
    "class SimpleCNN(nn.Module):\n",
    "    def __init__(self):\n",
    "        super(SimpleCNN, self).__init__()\n",
    "        self.conv1 = nn.Conv2d(3, 16, kernel_size=3, padding=1)\n",
    "        self.pool = nn.MaxPool2d(2, 2)\n",
    "        self.conv2 = nn.Conv2d(16, 32, kernel_size=3, padding=1)\n",
    "        self.fc1 = nn.Linear(32 * 56 * 56, 512)\n",
    "        self.fc2 = nn.Linear(512, 2)\n",
    "        self.dropout = nn.Dropout(0.5)\n",
    "    \n",
    "    def forward(self, x):\n",
    "        x = self.pool(F.relu(self.conv1(x)))\n",
    "        x = self.pool(F.relu(self.conv2(x)))\n",
    "        x = x.view(-1, 32 * 56 * 56)\n",
    "        x = self.dropout(F.relu(self.fc1(x)))\n",
    "        x = self.fc2(x)\n",
    "        return x\n",
    "\n",
    "# Model initialiseren\n",
    "model = SimpleCNN().to(device)\n",
    "\n",
    "# Loss en optimizer\n",
    "criterion = nn.CrossEntropyLoss()\n",
    "optimizer = optim.Adam(model.parameters(), lr=0.001)\n"
   ]
  },
  {
   "cell_type": "code",
   "execution_count": 20,
   "metadata": {},
   "outputs": [],
   "source": [
    "# train model\n",
    "def train_model(model, criterion, optimizer, train_loader, val_loader, num_epochs=25):\n",
    "    results = {\"train_acc\": [], \"val_acc\": []}\n",
    "    for epoch in range(num_epochs):\n",
    "        model.train()\n",
    "        running_loss = 0.0\n",
    "        correct = 0\n",
    "        total = 0\n",
    "        \n",
    "        # Training loop\n",
    "        for images, labels in train_loader:\n",
    "            images, labels = images.to(device), labels.to(device)\n",
    "            optimizer.zero_grad()\n",
    "            outputs = model(images)\n",
    "            loss = criterion(outputs, labels)\n",
    "            loss.backward()\n",
    "            optimizer.step()\n",
    "            \n",
    "            running_loss += loss.item()\n",
    "            _, predicted = outputs.max(1)\n",
    "            total += labels.size(0)\n",
    "            correct += predicted.eq(labels).sum().item()\n",
    "        \n",
    "        # Valideren\n",
    "        model.eval()\n",
    "        val_loss = 0.0\n",
    "        val_correct = 0\n",
    "        val_total = 0\n",
    "        with torch.no_grad():\n",
    "            for images, labels in val_loader:\n",
    "                images, labels = images.to(device), labels.to(device)\n",
    "                outputs = model(images)\n",
    "                loss = criterion(outputs, labels)\n",
    "                val_loss += loss.item()\n",
    "                _, predicted = outputs.max(1)\n",
    "                val_total += labels.size(0)\n",
    "                val_correct += predicted.eq(labels).sum().item()\n",
    "\n",
    "        results['train_acc'].append(correct/total)\n",
    "        results['val_acc'].append(val_correct/val_total)\n",
    "        print(f'Epoch [{epoch+1}/{num_epochs}], Loss: {running_loss/len(train_loader):.4f}, Accuracy: {100.*correct/total:.2f}%, Val Loss: {val_loss/len(val_loader):.4f}, Val Accuracy: {100.*val_correct/val_total:.2f}%')\n",
    "    return results\n"
   ]
  },
  {
   "cell_type": "code",
   "execution_count": 21,
   "metadata": {},
   "outputs": [
    {
     "name": "stdout",
     "output_type": "stream",
     "text": [
      "Epoch [1/25], Loss: 0.5036, Accuracy: 75.25%, Val Loss: 0.6049, Val Accuracy: 64.71%\n",
      "Epoch [2/25], Loss: 0.5422, Accuracy: 73.76%, Val Loss: 0.6089, Val Accuracy: 64.71%\n",
      "Epoch [3/25], Loss: 0.5661, Accuracy: 70.30%, Val Loss: 0.5930, Val Accuracy: 68.63%\n",
      "Epoch [4/25], Loss: 0.5308, Accuracy: 74.26%, Val Loss: 0.5593, Val Accuracy: 66.67%\n",
      "Epoch [5/25], Loss: 0.4763, Accuracy: 77.23%, Val Loss: 0.5087, Val Accuracy: 68.63%\n",
      "Epoch [6/25], Loss: 0.5156, Accuracy: 75.74%, Val Loss: 0.6326, Val Accuracy: 54.90%\n",
      "Epoch [7/25], Loss: 0.5700, Accuracy: 74.26%, Val Loss: 0.5738, Val Accuracy: 64.71%\n",
      "Epoch [8/25], Loss: 0.5494, Accuracy: 70.30%, Val Loss: 0.5558, Val Accuracy: 66.67%\n",
      "Epoch [9/25], Loss: 0.5603, Accuracy: 74.75%, Val Loss: 0.6019, Val Accuracy: 58.82%\n",
      "Epoch [10/25], Loss: 0.5577, Accuracy: 72.77%, Val Loss: 0.5468, Val Accuracy: 68.63%\n",
      "Epoch [11/25], Loss: 0.4779, Accuracy: 76.73%, Val Loss: 0.6596, Val Accuracy: 62.75%\n",
      "Epoch [12/25], Loss: 0.5491, Accuracy: 74.26%, Val Loss: 0.6554, Val Accuracy: 60.78%\n",
      "Epoch [13/25], Loss: 0.5210, Accuracy: 74.75%, Val Loss: 0.5383, Val Accuracy: 66.67%\n",
      "Epoch [14/25], Loss: 0.6214, Accuracy: 74.26%, Val Loss: 0.5907, Val Accuracy: 68.63%\n",
      "Epoch [15/25], Loss: 0.4772, Accuracy: 78.22%, Val Loss: 0.5238, Val Accuracy: 68.63%\n",
      "Epoch [16/25], Loss: 0.4653, Accuracy: 78.22%, Val Loss: 0.5764, Val Accuracy: 64.71%\n",
      "Epoch [17/25], Loss: 0.5325, Accuracy: 74.26%, Val Loss: 0.6001, Val Accuracy: 64.71%\n",
      "Epoch [18/25], Loss: 0.5303, Accuracy: 75.25%, Val Loss: 0.5696, Val Accuracy: 62.75%\n",
      "Epoch [19/25], Loss: 0.5189, Accuracy: 74.26%, Val Loss: 0.5708, Val Accuracy: 70.59%\n",
      "Epoch [20/25], Loss: 0.5297, Accuracy: 76.73%, Val Loss: 0.5717, Val Accuracy: 60.78%\n",
      "Epoch [21/25], Loss: 0.4968, Accuracy: 78.71%, Val Loss: 0.5312, Val Accuracy: 74.51%\n",
      "Epoch [22/25], Loss: 0.4985, Accuracy: 82.18%, Val Loss: 0.6202, Val Accuracy: 68.63%\n",
      "Epoch [23/25], Loss: 0.4982, Accuracy: 75.74%, Val Loss: 0.6030, Val Accuracy: 60.78%\n",
      "Epoch [24/25], Loss: 0.4919, Accuracy: 75.25%, Val Loss: 0.6238, Val Accuracy: 72.55%\n",
      "Epoch [25/25], Loss: 0.4808, Accuracy: 76.73%, Val Loss: 0.6267, Val Accuracy: 70.59%\n"
     ]
    }
   ],
   "source": [
    "results = train_model(model, criterion, optimizer, train_loader, val_loader)"
   ]
  },
  {
   "cell_type": "code",
   "execution_count": null,
   "metadata": {},
   "outputs": [],
   "source": []
  },
  {
   "cell_type": "markdown",
   "metadata": {},
   "source": [
    "## Model evaluation\n",
    "\n",
    "Na het trainen van het model kunnen we evalueren of het gebouwde model goed werkt.\n",
    "\n",
    "Beantwoord hiervoor de volgende vragen:\n",
    "* Maak een plot van de trainings error en validation accuracy van de getrainde model modellen\n",
    "* Bespreek op basis van deze figuren of het model aan het over/underfitten is.\n",
    "* Hoe zou je overfitten tegengaan?\n",
    "* Hoe zou je underfitten tegengaan?\n",
    "* Bereken voor de valuatiedata ook de precision, recall en f1-score. Welk van deze metrieken is belangrijk voor deze dataset als we geen false positives willen."
   ]
  },
  {
   "cell_type": "markdown",
   "metadata": {},
   "source": [
    "**Antwoorden:...**"
   ]
  },
  {
   "cell_type": "code",
   "execution_count": 22,
   "metadata": {},
   "outputs": [
    {
     "data": {
      "image/png": "[encoded data removed]",
      "text/plain": [
       "<Figure size 1000x500 with 1 Axes>"
      ]
     },
     "metadata": {},
     "output_type": "display_data"
    }
   ],
   "source": [
    "# Evaluation en plots\n",
    "def plot_accuracy(results):\n",
    "    plt.figure(figsize=(10, 5))\n",
    "    plt.plot(results['train_acc'], label='Train Accuracy')\n",
    "    plt.plot(results['val_acc'], label='Validation Accuracy')\n",
    "    plt.xlabel('Epoch')\n",
    "    plt.ylabel('Accuracy (%)')\n",
    "    plt.title('Train and Validation Accuracy over Epochs')\n",
    "    plt.legend()\n",
    "    plt.grid()\n",
    "    plt.show()\n",
    "\n",
    "plot_accuracy(results)"
   ]
  },
  {
   "cell_type": "code",
   "execution_count": 24,
   "metadata": {},
   "outputs": [
    {
     "name": "stdout",
     "output_type": "stream",
     "text": [
      "Precision: 0.7333, Recall: 0.8462, F1 Score: 0.7857\n"
     ]
    }
   ],
   "source": [
    "def calculate_metrics(model, val_loader):\n",
    "    model.eval()  # Zet model in evaluatiemodus\n",
    "    all_preds = []\n",
    "    all_labels = []\n",
    "\n",
    "    with torch.no_grad():  # Geen gradienten nodig tijdens validatie\n",
    "        for images, labels in val_loader:\n",
    "            images, labels = images.to(device), labels.to(device)\n",
    "            outputs = model(images)\n",
    "            _, predicted = outputs.max(1)\n",
    "\n",
    "            # Verzamel alle voorspellingen en labels\n",
    "            all_preds.extend(predicted.cpu().numpy())\n",
    "            all_labels.extend(labels.cpu().numpy())\n",
    "\n",
    "    # Bereken precision, recall en f1-score\n",
    "    precision = precision_score(all_labels, all_preds, average='binary')\n",
    "    recall = recall_score(all_labels, all_preds, average='binary')\n",
    "    f1 = f1_score(all_labels, all_preds, average='binary')\n",
    "\n",
    "    print(f'Precision: {precision:.4f}, Recall: {recall:.4f}, F1 Score: {f1:.4f}')\n",
    "    return precision, recall, f1\n",
    "\n",
    "# Aanroep van de functie na het trainen van het model\n",
    "precision, recall, f1 = calculate_metrics(model, val_loader)"
   ]
  },
  {
   "cell_type": "markdown",
   "metadata": {},
   "source": [
    "## Verbeterde model\n",
    "\n",
    "Maak nu een tweede model dat probeert betere resultaten te halen dan het bovenstaande model.\n",
    "Hierbij mag je gebruik maken van alle technieken die je wil.\n",
    "Er is hierbij maar 1 voorwaarde: **maak gebruik van de torch.nn.BatchNorm2d layer**.\n",
    "Train en evalueer dit model ook en vergelijk het met het vorige.\n",
    "Indien je bij het vorige model over/underfitting opgemerkt hebt, pak dit aan in dit model.\n",
    "\n",
    "Vragen:\n",
    "* Bespreek de structuur van het model (niet elke hyperparameter meer maar enkel de gekozen lagen). Waarom heb je de wijzigingen doorgevoerd?\n",
    "* Wat doet de batchnormalization layer? Wat is de beste plaats voor deze laag toe te voegen?\n",
    "* Bespreek hoe je over/underfitting hebt aangepakt\n",
    "* Bespreek de behaalde resultaten"
   ]
  },
  {
   "cell_type": "markdown",
   "metadata": {},
   "source": [
    "**Antwoord:**"
   ]
  },
  {
   "cell_type": "code",
   "execution_count": null,
   "metadata": {},
   "outputs": [],
   "source": [
    "# Model met batchnormalization"
   ]
  },
  {
   "cell_type": "code",
   "execution_count": null,
   "metadata": {},
   "outputs": [],
   "source": []
  }
 ],
 "metadata": {
  "kernelspec": {
   "display_name": "Python 3 (ipykernel)",
   "language": "python",
   "name": "python3"
  },
  "language_info": {
   "codemirror_mode": {
    "name": "ipython",
    "version": 3
   },
   "file_extension": ".py",
   "mimetype": "text/x-python",
   "name": "python",
   "nbconvert_exporter": "python",
   "pygments_lexer": "ipython3",
   "version": "3.10.13"
  },
  "vscode": {
   "interpreter": {
    "hash": "d5e8e3a19af5ceb2434683dff87da6345c3b29f7eb0a8a138558c07d014a01cc"
   }
  }
 },
 "nbformat": 4,
 "nbformat_minor": 4
}
