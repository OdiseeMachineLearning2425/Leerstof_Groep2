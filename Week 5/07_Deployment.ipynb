{
 "cells": [
  {
   "cell_type": "markdown",
   "metadata": {},
   "source": [
    "# In productie brengen van een ML model\n",
    "\n",
    "In deze notebook demonstreren we hoe je een machine learning-model in productie kunt brengen door het te serveren via een Flask API of het op te slaan in de cloud en lokaal uit te voeren. \n",
    "\n",
    "## Onderdelen:\n",
    "\n",
    "1. **Flask API Schrijven**:\n",
    "   - We schrijven een eenvoudige Flask API die een machine learning-model serveert.\n",
    "\n",
    "2. **Model Opslaan in de Cloud om lokaal uit te voeren**:\n",
    "   - We slaan het model op in GitHub zodat het toegankelijk is voor download.\n",
    "---\n",
    "\n",
    "## 1. Flask API Schrijven\n",
    "\n",
    "Voordat we beginnen met de code, laten we een korte uitleg geven over hoe de Flask API werkt.\n",
    "\n",
    "### Uitleg:\n",
    "\n",
    "- **Flask**: Een micro webframework voor Python dat het mogelijk maakt om snel en eenvoudig een webapplicatie te bouwen.\n",
    "- **API Endpoint**: We maken een endpoint (`/predict`) dat een afbeelding accepteert en voorspellingen doet met het getrainde model.\n",
    "\n",
    "Run deze file buiten de docker container en start de hmtl via de live-server van visual studio code\n",
    "\n",
    "### Voorbereidingen:\n",
    "\n",
    "Installeer Flask en andere vereiste bibliotheken:\n"
   ]
  },
  {
   "cell_type": "code",
   "execution_count": null,
   "metadata": {},
   "outputs": [],
   "source": []
  },
  {
   "cell_type": "code",
   "execution_count": null,
   "metadata": {},
   "outputs": [],
   "source": [
    "%%writefile 07_app.py\n",
    "\n"
   ]
  },
  {
   "cell_type": "markdown",
   "metadata": {},
   "source": [
    "## 2. Model opslaan in de cloud\n",
    "\n",
    "**Upload het PyTorch-model naar Firebase Storage**\n",
    "\n",
    "Voer hiervoor de volgende stappen uit:\n",
    "\n",
    "* Als je nog geen Firebase-project hebt, maak er dan een aan via de Firebase Console.\n",
    "* Schakel Firebase Storage in: Ga naar de Firebase Console, selecteer je project en schakel Firebase Storage in.\n",
    "* Je kunt het modelbestand (bijvoorbeeld model.pth) handmatig uploaden via de Firebase Console, of je kunt de Firebase Python SDK gebruiken om dit automatisch te doen (zie code hieronder)\n",
    "\n",
    "Voor deze laatste aanpak heb je een service account nodig.\n",
    "Ga hiervoor naar project-settings -> service accounts -> generate new key"
   ]
  },
  {
   "cell_type": "code",
   "execution_count": null,
   "metadata": {},
   "outputs": [],
   "source": []
  },
  {
   "cell_type": "code",
   "execution_count": null,
   "metadata": {},
   "outputs": [],
   "source": []
  },
  {
   "cell_type": "markdown",
   "metadata": {},
   "source": [
    "Nu gaan we een C# application maken die dit model download en gebruikt.\n",
    "Hiervoor moeten we een console applicatie maken die gebruik maakt van de volgende nuget packages:\n",
    "* FirebaseAdmin (voor te downloaden)\n",
    "* Microsoft.ML.OnnxRuntime\n",
    "* System.Drawing.Common"
   ]
  },
  {
   "cell_type": "code",
   "execution_count": null,
   "metadata": {},
   "outputs": [],
   "source": []
  }
 ],
 "metadata": {
  "kernelspec": {
   "display_name": "Python 3 (ipykernel)",
   "language": "python",
   "name": "python3"
  },
  "language_info": {
   "codemirror_mode": {
    "name": "ipython",
    "version": 3
   },
   "file_extension": ".py",
   "mimetype": "text/x-python",
   "name": "python",
   "nbconvert_exporter": "python",
   "pygments_lexer": "ipython3",
   "version": "3.10.13"
  },
  "vscode": {
   "interpreter": {
    "hash": "d5e8e3a19af5ceb2434683dff87da6345c3b29f7eb0a8a138558c07d014a01cc"
   }
  }
 },
 "nbformat": 4,
 "nbformat_minor": 4
}
