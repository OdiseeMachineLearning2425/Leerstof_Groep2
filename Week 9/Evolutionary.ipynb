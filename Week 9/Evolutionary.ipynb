{
 "cells": [
  {
   "cell_type": "markdown",
   "metadata": {
    "id": "_iCCMpkHqd_R"
   },
   "source": [
    "# Reinforcement learning"
   ]
  },
  {
   "cell_type": "code",
   "execution_count": null,
   "metadata": {},
   "outputs": [],
   "source": [
    "import gymnasium as gym\n",
    "import numpy as np\n",
    "# for allowing abstract methodes (closest thing to interface)\n",
    "from abc import ABC, abstractmethod\n",
    "from IPython.display import display, clear_output\n",
    "\n",
    "class Agent(ABC):\n",
    "\n",
    "    @abstractmethod\n",
    "    def _init_weights(self):\n",
    "        pass\n",
    "\n",
    "    @abstractmethod\n",
    "    def copy(self):\n",
    "        pass\n",
    "\n",
    "    @abstractmethod\n",
    "    def get_action(self, observation=None):\n",
    "        pass\n",
    "\n",
    "    @abstractmethod\n",
    "    def mutate(parents=None, mutation_rate=None):\n",
    "        pass\n",
    "\n",
    "# simulate single training run\n",
    "def simulate_env(env, agent):\n",
    "\n",
    "    # Schrijf dit snel\n",
    "    \n",
    "    pass\n",
    "\n",
    "# train a reinforcment learning agent\n",
    "def train_agent(env, agent, population_size = 50, mutation_rate=0.4, num_generations = 100, num_episodes=5):\n",
    "\n",
    "    # Initialize the population\n",
    "    population = [agent.copy() for _ in range(population_size)]\n",
    "\n",
    "    # number of generations in the algorithm\n",
    "    for generation in range(num_generations):\n",
    "        # Evaluate each individual in the population\n",
    "        scores = []\n",
    "        \n",
    "        # Select the top-performing individuals\n",
    "    \n",
    "        # Create a new population by mutating and recombining the elite individuals\n",
    "    \n",
    "        # Print the best score in this generation\n",
    "        best_score = max(scores)\n",
    "        print(f\"Generation {generation + 1}: Best Score = {best_score}\")\n",
    "    \n",
    "    # return best individual\n",
    "    return best_individual"
   ]
  },
  {
   "cell_type": "markdown",
   "metadata": {},
   "source": [
    "\n",
    "## Evolutionary algorithms\n"
   ]
  },
  {
   "cell_type": "code",
   "execution_count": null,
   "metadata": {},
   "outputs": [],
   "source": [
    "class EvolutionaryAgent(Agent):\n",
    "    num_parents = 1\n",
    "\n",
    "    def __init__(self):\n",
    "        super().__init__()\n",
    "\n",
    "        # vul de constructor indien nodig aan\n",
    "        \n",
    "        self._init_weights()\n",
    "        \n",
    "    def _init_weights(self):\n",
    "        # maak een neuraal netwerk/de gewichten ervan\n",
    "        pass\n",
    "                \n",
    "    def copy(self):\n",
    "        # maak een nieuwe agent van deze klasse\n",
    "\n",
    "        pass\n",
    "        \n",
    "\n",
    "    def get_action(self, observation=None):\n",
    "        # zoek de beste actie\n",
    "        pass\n",
    "\n",
    "    def mutate(self, parents=None, mutation_rate=None):\n",
    "        # return een nieuw kind op basis van de gewichten van deze agent\n",
    "        pass"
   ]
  },
  {
   "cell_type": "code",
   "execution_count": null,
   "metadata": {},
   "outputs": [],
   "source": [
    "# Define the MountainCar environment\n",
    "env = gym.make(\"MountainCar-v0\")\n",
    "\n",
    "# Hyperparameters\n",
    "population_size = 100\n",
    "mutation_rate = 0.3\n",
    "num_generations = 100\n",
    "num_episodes = 5\n",
    "\n",
    "# RL agent with internally a NN with a hidden layer of 8 neurons\n",
    "input_size = env.observation_space.shape[0]\n",
    "output_size = env.action_space.n\n",
    "agent = EvolutionaryAgent(num_inputs=input_size, num_outputs=output_size, hidden_layer_sizes=[8])\n",
    "\n",
    "best_evolutionary_agent = train_agent(env, agent, population_size=population_size, mutation_rate=mutation_rate, num_generations=num_generations, num_episodes=num_episodes)"
   ]
  },
  {
   "cell_type": "code",
   "execution_count": null,
   "metadata": {},
   "outputs": [],
   "source": [
    "# Evaluate the best individual\n",
    "env = gym.make(\"MountainCar-v0\", render_mode=\"human\")\n",
    "\n",
    "for episode in range(5):\n",
    "    score = simulate_env(env, best_evolutionary_agent)\n",
    "    print(f\"Best Individual Score: {score}\")"
   ]
  },
  {
   "cell_type": "code",
   "execution_count": null,
   "metadata": {},
   "outputs": [],
   "source": [
    "import matplotlib.pyplot as plt\n",
    "\n",
    "def plot_action_space(agent):\n",
    "\n",
    "    results = []\n",
    "    xs = np.arange(-1.2, 0.6, 0.05)\n",
    "    ys = np.arange(-0.07, 0.07, 0.001)\n",
    "\n",
    "    for x in xs:\n",
    "        tmp = []\n",
    "        for y in ys:\n",
    "            tmp.append(agent.get_action(np.array([x, y])))\n",
    "        results.append(tmp)\n",
    "    results = np.array(results)\n",
    "\n",
    "    plt.imshow(results, cmap='gray', interpolation='none') \n",
    "\n",
    "plot_action_space(best_evolutionary_agent)"
   ]
  },
  {
   "cell_type": "code",
   "execution_count": null,
   "metadata": {},
   "outputs": [],
   "source": []
  }
 ],
 "metadata": {
  "colab": {
   "collapsed_sections": [],
   "provenance": []
  },
  "kernelspec": {
   "display_name": "Python 3 (ipykernel)",
   "language": "python",
   "name": "python3"
  },
  "language_info": {
   "codemirror_mode": {
    "name": "ipython",
    "version": 3
   },
   "file_extension": ".py",
   "mimetype": "text/x-python",
   "name": "python",
   "nbconvert_exporter": "python",
   "pygments_lexer": "ipython3",
   "version": "3.10.15"
  },
  "vscode": {
   "interpreter": {
    "hash": "d5e8e3a19af5ceb2434683dff87da6345c3b29f7eb0a8a138558c07d014a01cc"
   }
  }
 },
 "nbformat": 4,
 "nbformat_minor": 4
}
